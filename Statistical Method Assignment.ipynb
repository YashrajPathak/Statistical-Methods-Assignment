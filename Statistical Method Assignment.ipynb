{
 "cells": [
  {
   "cell_type": "markdown",
   "metadata": {},
   "source": [
    "### STATISTICAL Tests - Assignment"
   ]
  },
  {
   "cell_type": "markdown",
   "metadata": {},
   "source": [
    "#### Importing necessary Libraries"
   ]
  },
  {
   "cell_type": "code",
   "execution_count": 2,
   "metadata": {},
   "outputs": [],
   "source": [
    "import numpy as np\n",
    "import pandas as pd\n",
    "import scipy.stats as stats\n",
    "import matplotlib.pyplot as plt\n",
    "%matplotlib inline\n",
    "import math"
   ]
  },
  {
   "cell_type": "markdown",
   "metadata": {},
   "source": [
    "### 1.A physician is evaluating a new diet for her patients with a family history of heart disease. To test the effectiveness of this diet, 16 patients are placed on the diet for 6 months. Their weights and triglyceride levels are measured before and after the study, and the physician wants to know if either set of measurements has changed. (Data set: dietstudy.csv)"
   ]
  },
  {
   "cell_type": "code",
   "execution_count": 3,
   "metadata": {},
   "outputs": [
    {
     "data": {
      "text/html": [
       "<div>\n",
       "<style scoped>\n",
       "    .dataframe tbody tr th:only-of-type {\n",
       "        vertical-align: middle;\n",
       "    }\n",
       "\n",
       "    .dataframe tbody tr th {\n",
       "        vertical-align: top;\n",
       "    }\n",
       "\n",
       "    .dataframe thead th {\n",
       "        text-align: right;\n",
       "    }\n",
       "</style>\n",
       "<table border=\"1\" class=\"dataframe\">\n",
       "  <thead>\n",
       "    <tr style=\"text-align: right;\">\n",
       "      <th></th>\n",
       "      <th>patid</th>\n",
       "      <th>age</th>\n",
       "      <th>gender</th>\n",
       "      <th>tg0</th>\n",
       "      <th>tg1</th>\n",
       "      <th>tg2</th>\n",
       "      <th>tg3</th>\n",
       "      <th>tg4</th>\n",
       "      <th>wgt0</th>\n",
       "      <th>wgt1</th>\n",
       "      <th>wgt2</th>\n",
       "      <th>wgt3</th>\n",
       "      <th>wgt4</th>\n",
       "    </tr>\n",
       "  </thead>\n",
       "  <tbody>\n",
       "    <tr>\n",
       "      <th>0</th>\n",
       "      <td>1</td>\n",
       "      <td>45</td>\n",
       "      <td>Male</td>\n",
       "      <td>180</td>\n",
       "      <td>148</td>\n",
       "      <td>106</td>\n",
       "      <td>113</td>\n",
       "      <td>100</td>\n",
       "      <td>198</td>\n",
       "      <td>196</td>\n",
       "      <td>193</td>\n",
       "      <td>188</td>\n",
       "      <td>192</td>\n",
       "    </tr>\n",
       "    <tr>\n",
       "      <th>1</th>\n",
       "      <td>2</td>\n",
       "      <td>56</td>\n",
       "      <td>Male</td>\n",
       "      <td>139</td>\n",
       "      <td>94</td>\n",
       "      <td>119</td>\n",
       "      <td>75</td>\n",
       "      <td>92</td>\n",
       "      <td>237</td>\n",
       "      <td>233</td>\n",
       "      <td>232</td>\n",
       "      <td>228</td>\n",
       "      <td>225</td>\n",
       "    </tr>\n",
       "    <tr>\n",
       "      <th>2</th>\n",
       "      <td>3</td>\n",
       "      <td>50</td>\n",
       "      <td>Male</td>\n",
       "      <td>152</td>\n",
       "      <td>185</td>\n",
       "      <td>86</td>\n",
       "      <td>149</td>\n",
       "      <td>118</td>\n",
       "      <td>233</td>\n",
       "      <td>231</td>\n",
       "      <td>229</td>\n",
       "      <td>228</td>\n",
       "      <td>226</td>\n",
       "    </tr>\n",
       "    <tr>\n",
       "      <th>3</th>\n",
       "      <td>4</td>\n",
       "      <td>46</td>\n",
       "      <td>Female</td>\n",
       "      <td>112</td>\n",
       "      <td>145</td>\n",
       "      <td>136</td>\n",
       "      <td>149</td>\n",
       "      <td>82</td>\n",
       "      <td>179</td>\n",
       "      <td>181</td>\n",
       "      <td>177</td>\n",
       "      <td>174</td>\n",
       "      <td>172</td>\n",
       "    </tr>\n",
       "    <tr>\n",
       "      <th>4</th>\n",
       "      <td>5</td>\n",
       "      <td>64</td>\n",
       "      <td>Male</td>\n",
       "      <td>156</td>\n",
       "      <td>104</td>\n",
       "      <td>157</td>\n",
       "      <td>79</td>\n",
       "      <td>97</td>\n",
       "      <td>219</td>\n",
       "      <td>217</td>\n",
       "      <td>215</td>\n",
       "      <td>213</td>\n",
       "      <td>214</td>\n",
       "    </tr>\n",
       "    <tr>\n",
       "      <th>5</th>\n",
       "      <td>6</td>\n",
       "      <td>49</td>\n",
       "      <td>Female</td>\n",
       "      <td>167</td>\n",
       "      <td>138</td>\n",
       "      <td>88</td>\n",
       "      <td>107</td>\n",
       "      <td>171</td>\n",
       "      <td>169</td>\n",
       "      <td>166</td>\n",
       "      <td>165</td>\n",
       "      <td>162</td>\n",
       "      <td>161</td>\n",
       "    </tr>\n",
       "    <tr>\n",
       "      <th>6</th>\n",
       "      <td>7</td>\n",
       "      <td>63</td>\n",
       "      <td>Male</td>\n",
       "      <td>138</td>\n",
       "      <td>132</td>\n",
       "      <td>146</td>\n",
       "      <td>143</td>\n",
       "      <td>132</td>\n",
       "      <td>222</td>\n",
       "      <td>219</td>\n",
       "      <td>215</td>\n",
       "      <td>215</td>\n",
       "      <td>210</td>\n",
       "    </tr>\n",
       "    <tr>\n",
       "      <th>7</th>\n",
       "      <td>8</td>\n",
       "      <td>63</td>\n",
       "      <td>Female</td>\n",
       "      <td>160</td>\n",
       "      <td>128</td>\n",
       "      <td>150</td>\n",
       "      <td>118</td>\n",
       "      <td>123</td>\n",
       "      <td>167</td>\n",
       "      <td>167</td>\n",
       "      <td>166</td>\n",
       "      <td>162</td>\n",
       "      <td>161</td>\n",
       "    </tr>\n",
       "    <tr>\n",
       "      <th>8</th>\n",
       "      <td>9</td>\n",
       "      <td>52</td>\n",
       "      <td>Male</td>\n",
       "      <td>107</td>\n",
       "      <td>120</td>\n",
       "      <td>129</td>\n",
       "      <td>195</td>\n",
       "      <td>174</td>\n",
       "      <td>199</td>\n",
       "      <td>200</td>\n",
       "      <td>196</td>\n",
       "      <td>196</td>\n",
       "      <td>193</td>\n",
       "    </tr>\n",
       "    <tr>\n",
       "      <th>9</th>\n",
       "      <td>10</td>\n",
       "      <td>45</td>\n",
       "      <td>Male</td>\n",
       "      <td>156</td>\n",
       "      <td>103</td>\n",
       "      <td>126</td>\n",
       "      <td>135</td>\n",
       "      <td>92</td>\n",
       "      <td>233</td>\n",
       "      <td>229</td>\n",
       "      <td>229</td>\n",
       "      <td>229</td>\n",
       "      <td>226</td>\n",
       "    </tr>\n",
       "    <tr>\n",
       "      <th>10</th>\n",
       "      <td>11</td>\n",
       "      <td>61</td>\n",
       "      <td>Female</td>\n",
       "      <td>94</td>\n",
       "      <td>144</td>\n",
       "      <td>114</td>\n",
       "      <td>114</td>\n",
       "      <td>121</td>\n",
       "      <td>179</td>\n",
       "      <td>181</td>\n",
       "      <td>176</td>\n",
       "      <td>173</td>\n",
       "      <td>173</td>\n",
       "    </tr>\n",
       "    <tr>\n",
       "      <th>11</th>\n",
       "      <td>12</td>\n",
       "      <td>49</td>\n",
       "      <td>Female</td>\n",
       "      <td>107</td>\n",
       "      <td>93</td>\n",
       "      <td>156</td>\n",
       "      <td>148</td>\n",
       "      <td>150</td>\n",
       "      <td>158</td>\n",
       "      <td>153</td>\n",
       "      <td>155</td>\n",
       "      <td>155</td>\n",
       "      <td>154</td>\n",
       "    </tr>\n",
       "    <tr>\n",
       "      <th>12</th>\n",
       "      <td>13</td>\n",
       "      <td>61</td>\n",
       "      <td>Female</td>\n",
       "      <td>145</td>\n",
       "      <td>107</td>\n",
       "      <td>129</td>\n",
       "      <td>86</td>\n",
       "      <td>159</td>\n",
       "      <td>157</td>\n",
       "      <td>151</td>\n",
       "      <td>150</td>\n",
       "      <td>145</td>\n",
       "      <td>143</td>\n",
       "    </tr>\n",
       "    <tr>\n",
       "      <th>13</th>\n",
       "      <td>14</td>\n",
       "      <td>59</td>\n",
       "      <td>Male</td>\n",
       "      <td>186</td>\n",
       "      <td>142</td>\n",
       "      <td>128</td>\n",
       "      <td>122</td>\n",
       "      <td>101</td>\n",
       "      <td>216</td>\n",
       "      <td>213</td>\n",
       "      <td>210</td>\n",
       "      <td>210</td>\n",
       "      <td>206</td>\n",
       "    </tr>\n",
       "    <tr>\n",
       "      <th>14</th>\n",
       "      <td>15</td>\n",
       "      <td>52</td>\n",
       "      <td>Male</td>\n",
       "      <td>112</td>\n",
       "      <td>107</td>\n",
       "      <td>103</td>\n",
       "      <td>89</td>\n",
       "      <td>148</td>\n",
       "      <td>257</td>\n",
       "      <td>255</td>\n",
       "      <td>254</td>\n",
       "      <td>252</td>\n",
       "      <td>249</td>\n",
       "    </tr>\n",
       "    <tr>\n",
       "      <th>15</th>\n",
       "      <td>16</td>\n",
       "      <td>60</td>\n",
       "      <td>Female</td>\n",
       "      <td>104</td>\n",
       "      <td>103</td>\n",
       "      <td>117</td>\n",
       "      <td>79</td>\n",
       "      <td>130</td>\n",
       "      <td>151</td>\n",
       "      <td>146</td>\n",
       "      <td>144</td>\n",
       "      <td>144</td>\n",
       "      <td>140</td>\n",
       "    </tr>\n",
       "  </tbody>\n",
       "</table>\n",
       "</div>"
      ],
      "text/plain": [
       "    patid  age  gender  tg0  tg1  tg2  tg3  tg4  wgt0  wgt1  wgt2  wgt3  wgt4\n",
       "0       1   45    Male  180  148  106  113  100   198   196   193   188   192\n",
       "1       2   56    Male  139   94  119   75   92   237   233   232   228   225\n",
       "2       3   50    Male  152  185   86  149  118   233   231   229   228   226\n",
       "3       4   46  Female  112  145  136  149   82   179   181   177   174   172\n",
       "4       5   64    Male  156  104  157   79   97   219   217   215   213   214\n",
       "5       6   49  Female  167  138   88  107  171   169   166   165   162   161\n",
       "6       7   63    Male  138  132  146  143  132   222   219   215   215   210\n",
       "7       8   63  Female  160  128  150  118  123   167   167   166   162   161\n",
       "8       9   52    Male  107  120  129  195  174   199   200   196   196   193\n",
       "9      10   45    Male  156  103  126  135   92   233   229   229   229   226\n",
       "10     11   61  Female   94  144  114  114  121   179   181   176   173   173\n",
       "11     12   49  Female  107   93  156  148  150   158   153   155   155   154\n",
       "12     13   61  Female  145  107  129   86  159   157   151   150   145   143\n",
       "13     14   59    Male  186  142  128  122  101   216   213   210   210   206\n",
       "14     15   52    Male  112  107  103   89  148   257   255   254   252   249\n",
       "15     16   60  Female  104  103  117   79  130   151   146   144   144   140"
      ]
     },
     "execution_count": 3,
     "metadata": {},
     "output_type": "execute_result"
    }
   ],
   "source": [
    "#Importing Datasets \"dietstudy.csv\" and assigning it to the variable dietstudy\n",
    "dietstudy = pd.read_csv(\"E:Datasets/dietstudy.csv\")\n",
    "dietstudy"
   ]
  },
  {
   "cell_type": "markdown",
   "metadata": {},
   "source": [
    " ### Two Sample T-Test(Paired)"
   ]
  },
  {
   "cell_type": "code",
   "execution_count": 8,
   "metadata": {},
   "outputs": [],
   "source": [
    "tgmean1 = dietstudy.tg0.mean()"
   ]
  },
  {
   "cell_type": "code",
   "execution_count": 10,
   "metadata": {},
   "outputs": [],
   "source": [
    "tgmean2 = dietstudy.tg4.mean()"
   ]
  },
  {
   "cell_type": "code",
   "execution_count": 28,
   "metadata": {},
   "outputs": [
    {
     "data": {
      "text/plain": [
       "14.0625"
      ]
     },
     "execution_count": 28,
     "metadata": {},
     "output_type": "execute_result"
    }
   ],
   "source": [
    "diff1 = tgmean1 - tgmean2\n",
    "diff1"
   ]
  },
  {
   "cell_type": "code",
   "execution_count": 29,
   "metadata": {},
   "outputs": [],
   "source": [
    "wgtmean1 = dietstudy.wgt0.mean()"
   ]
  },
  {
   "cell_type": "code",
   "execution_count": 30,
   "metadata": {},
   "outputs": [],
   "source": [
    "wgtmean2 = dietstudy.wgt4.mean()"
   ]
  },
  {
   "cell_type": "code",
   "execution_count": 33,
   "metadata": {},
   "outputs": [
    {
     "data": {
      "text/plain": [
       "8.0625"
      ]
     },
     "execution_count": 33,
     "metadata": {},
     "output_type": "execute_result"
    }
   ],
   "source": [
    "diff2 = wgtmean1 - wgtmean2\n",
    "diff2"
   ]
  },
  {
   "cell_type": "code",
   "execution_count": 34,
   "metadata": {},
   "outputs": [
    {
     "name": "stdout",
     "output_type": "stream",
     "text": [
      "The Initial Triglyceride levels of patients were 138.4375\n"
     ]
    }
   ],
   "source": [
    "print(\"The Initial Triglyceride levels of patients were {}\".format(tgmean1))"
   ]
  },
  {
   "cell_type": "code",
   "execution_count": 35,
   "metadata": {},
   "outputs": [
    {
     "name": "stdout",
     "output_type": "stream",
     "text": [
      "The Final Triglyceride levels of patients were 124.375\n"
     ]
    }
   ],
   "source": [
    "print(\"The Final Triglyceride levels of patients were {}\".format(tgmean2))"
   ]
  },
  {
   "cell_type": "code",
   "execution_count": 36,
   "metadata": {},
   "outputs": [
    {
     "name": "stdout",
     "output_type": "stream",
     "text": [
      "The Weights of patients were 198.375\n"
     ]
    }
   ],
   "source": [
    "print(\"The Weights of patients were {}\".format(wgtmean1))"
   ]
  },
  {
   "cell_type": "code",
   "execution_count": 37,
   "metadata": {},
   "outputs": [
    {
     "name": "stdout",
     "output_type": "stream",
     "text": [
      "The Final Weights of patients were 190.3125\n"
     ]
    }
   ],
   "source": [
    "print(\"The Final Weights of patients were {}\".format(wgtmean2))"
   ]
  },
  {
   "cell_type": "raw",
   "metadata": {},
   "source": [
    "-The Mean gives the difference between the averages of the two samples for each pair. Therefore,\n",
    "#1. In case of (Initial Triglyceride and Final Triglyceride), the difference in means of the two sample sets(Triglyceride levels after the diet period of 6 months) is 14.0625. Therefore, across all 16 patients Triglyceride levels dropped on an average after 6 months of new diet.\n",
    "\n",
    "#2. In case of (Initial Weights and Final Weights), the difference in means of the two sample sets(Weights after the diet period of 6 months) is 8.0625. Therefore, across all 16 patients Weights dropped on an average after 6 months of new diet is about 8 pounds."
   ]
  },
  {
   "cell_type": "markdown",
   "metadata": {},
   "source": [
    "### Stage - 1\n",
    "\n",
    "### H0 : Levels of Triglycerides of individual before diet == Levels of Triglycerides of individual after diet\n",
    "### H1 : Levels of Triglycerides of individual before diet != Levels of Triglycerides of individual after diet"
   ]
  },
  {
   "cell_type": "code",
   "execution_count": 39,
   "metadata": {},
   "outputs": [],
   "source": [
    "#Stage 1\n",
    "stage1_trig = stats.ttest_rel(a=dietstudy.tg0,b=dietstudy.tg4)\n",
    "\n",
    "#a = triglyceride levels before diet\n",
    "#b = triglyceride levels after diet"
   ]
  },
  {
   "cell_type": "code",
   "execution_count": 41,
   "metadata": {},
   "outputs": [
    {
     "data": {
      "text/plain": [
       "0.24874946576903698"
      ]
     },
     "execution_count": 41,
     "metadata": {},
     "output_type": "execute_result"
    }
   ],
   "source": [
    "stage1_trig.pvalue"
   ]
  },
  {
   "cell_type": "code",
   "execution_count": 42,
   "metadata": {},
   "outputs": [
    {
     "data": {
      "text/plain": [
       "True"
      ]
     },
     "execution_count": 42,
     "metadata": {},
     "output_type": "execute_result"
    }
   ],
   "source": [
    "stage1_trig.pvalue > 0.05"
   ]
  },
  {
   "cell_type": "markdown",
   "metadata": {},
   "source": [
    "- Since stage1_trig.pvalue is greater than 0.05 we accept Null hypothesis(H0)"
   ]
  },
  {
   "cell_type": "markdown",
   "metadata": {},
   "source": [
    "### Stage - 2\n",
    "\n",
    "### H0 : Weights of individual before diet == Weights of individual after diet\n",
    "### H1 :Weights of individual before diet != Weights of individual after diet"
   ]
  },
  {
   "cell_type": "code",
   "execution_count": 44,
   "metadata": {},
   "outputs": [],
   "source": [
    "stage2_weights = stats.ttest_rel(a=dietstudy.wgt0,b=dietstudy.wgt4)\n",
    "\n",
    "#a = weights before diet\n",
    "#b = weights after diet"
   ]
  },
  {
   "cell_type": "code",
   "execution_count": 46,
   "metadata": {},
   "outputs": [
    {
     "data": {
      "text/plain": [
       "1.137689414996614e-08"
      ]
     },
     "execution_count": 46,
     "metadata": {},
     "output_type": "execute_result"
    }
   ],
   "source": [
    "stage2_weights.pvalue"
   ]
  },
  {
   "cell_type": "code",
   "execution_count": 48,
   "metadata": {},
   "outputs": [
    {
     "data": {
      "text/plain": [
       "False"
      ]
     },
     "execution_count": 48,
     "metadata": {},
     "output_type": "execute_result"
    }
   ],
   "source": [
    "stage2_weights.pvalue > 0.05"
   ]
  },
  {
   "cell_type": "markdown",
   "metadata": {},
   "source": [
    "- Since stage2_weights.pvalue is smaller than 0.05 we reject Null hypothesis(H0)"
   ]
  },
  {
   "cell_type": "markdown",
   "metadata": {},
   "source": [
    "### Conclusions"
   ]
  },
  {
   "cell_type": "raw",
   "metadata": {},
   "source": [
    "1. Since the p-value for the change in weight is less than 0.05, we can conclude that the average loss of 8.0625 pounds per patient is not due to chance variation and can attributed to the diet plan.\n",
    "\n",
    "2. Howewer, the p-value greater than 0.05 for the change in Triglyceride level shows that the diet did not significantly reduce their Triglyceride levels."
   ]
  },
  {
   "cell_type": "markdown",
   "metadata": {},
   "source": [
    "### 2. An analyst at a department store wants to evaluate a recent credit card promotion. To this end, 500 cardholders were randomly selected. Half received an ad promoting a reduced interest rate on purchases made over the next three months, and half received a standard seasonal ad. Is the promotion effective to increase sales? (Data set: creditpromo.csv)\n"
   ]
  },
  {
   "cell_type": "code",
   "execution_count": 51,
   "metadata": {},
   "outputs": [
    {
     "data": {
      "text/html": [
       "<div>\n",
       "<style scoped>\n",
       "    .dataframe tbody tr th:only-of-type {\n",
       "        vertical-align: middle;\n",
       "    }\n",
       "\n",
       "    .dataframe tbody tr th {\n",
       "        vertical-align: top;\n",
       "    }\n",
       "\n",
       "    .dataframe thead th {\n",
       "        text-align: right;\n",
       "    }\n",
       "</style>\n",
       "<table border=\"1\" class=\"dataframe\">\n",
       "  <thead>\n",
       "    <tr style=\"text-align: right;\">\n",
       "      <th></th>\n",
       "      <th>id</th>\n",
       "      <th>insert</th>\n",
       "      <th>dollars</th>\n",
       "    </tr>\n",
       "  </thead>\n",
       "  <tbody>\n",
       "    <tr>\n",
       "      <th>0</th>\n",
       "      <td>148</td>\n",
       "      <td>Standard</td>\n",
       "      <td>2232.771979</td>\n",
       "    </tr>\n",
       "    <tr>\n",
       "      <th>1</th>\n",
       "      <td>572</td>\n",
       "      <td>New Promotion</td>\n",
       "      <td>1403.807542</td>\n",
       "    </tr>\n",
       "    <tr>\n",
       "      <th>2</th>\n",
       "      <td>973</td>\n",
       "      <td>Standard</td>\n",
       "      <td>2327.092181</td>\n",
       "    </tr>\n",
       "    <tr>\n",
       "      <th>3</th>\n",
       "      <td>1096</td>\n",
       "      <td>Standard</td>\n",
       "      <td>1280.030541</td>\n",
       "    </tr>\n",
       "    <tr>\n",
       "      <th>4</th>\n",
       "      <td>1541</td>\n",
       "      <td>New Promotion</td>\n",
       "      <td>1513.563200</td>\n",
       "    </tr>\n",
       "    <tr>\n",
       "      <th>...</th>\n",
       "      <td>...</td>\n",
       "      <td>...</td>\n",
       "      <td>...</td>\n",
       "    </tr>\n",
       "    <tr>\n",
       "      <th>495</th>\n",
       "      <td>130163</td>\n",
       "      <td>New Promotion</td>\n",
       "      <td>1513.060134</td>\n",
       "    </tr>\n",
       "    <tr>\n",
       "      <th>496</th>\n",
       "      <td>130204</td>\n",
       "      <td>New Promotion</td>\n",
       "      <td>1020.757943</td>\n",
       "    </tr>\n",
       "    <tr>\n",
       "      <th>497</th>\n",
       "      <td>130255</td>\n",
       "      <td>Standard</td>\n",
       "      <td>1919.856304</td>\n",
       "    </tr>\n",
       "    <tr>\n",
       "      <th>498</th>\n",
       "      <td>130583</td>\n",
       "      <td>Standard</td>\n",
       "      <td>1863.014814</td>\n",
       "    </tr>\n",
       "    <tr>\n",
       "      <th>499</th>\n",
       "      <td>130682</td>\n",
       "      <td>Standard</td>\n",
       "      <td>1295.012183</td>\n",
       "    </tr>\n",
       "  </tbody>\n",
       "</table>\n",
       "<p>500 rows × 3 columns</p>\n",
       "</div>"
      ],
      "text/plain": [
       "         id         insert      dollars\n",
       "0       148       Standard  2232.771979\n",
       "1       572  New Promotion  1403.807542\n",
       "2       973       Standard  2327.092181\n",
       "3      1096       Standard  1280.030541\n",
       "4      1541  New Promotion  1513.563200\n",
       "..      ...            ...          ...\n",
       "495  130163  New Promotion  1513.060134\n",
       "496  130204  New Promotion  1020.757943\n",
       "497  130255       Standard  1919.856304\n",
       "498  130583       Standard  1863.014814\n",
       "499  130682       Standard  1295.012183\n",
       "\n",
       "[500 rows x 3 columns]"
      ]
     },
     "execution_count": 51,
     "metadata": {},
     "output_type": "execute_result"
    }
   ],
   "source": [
    "#Importing Datasets \"creditpromo.csv\" and assigning it to the variable cred_prom\n",
    "cred_prom = pd.read_csv(\"E:Datasets/creditpromo.csv\")\n",
    "cred_prom"
   ]
  },
  {
   "cell_type": "code",
   "execution_count": 54,
   "metadata": {},
   "outputs": [
    {
     "data": {
      "text/plain": [
       "0      2232.771979\n",
       "2      2327.092181\n",
       "3      1280.030541\n",
       "7      1476.624884\n",
       "8      1460.769753\n",
       "          ...     \n",
       "490    1336.515307\n",
       "493    1330.233179\n",
       "497    1919.856304\n",
       "498    1863.014814\n",
       "499    1295.012183\n",
       "Name: dollars, Length: 250, dtype: float64"
      ]
     },
     "execution_count": 54,
     "metadata": {},
     "output_type": "execute_result"
    }
   ],
   "source": [
    "standard = cred_prom[\"dollars\"].loc[cred_prom[\"insert\"]==\"Standard\"]\n",
    "standard"
   ]
  },
  {
   "cell_type": "code",
   "execution_count": 56,
   "metadata": {},
   "outputs": [
    {
     "data": {
      "text/plain": [
       "1      1403.807542\n",
       "4      1513.563200\n",
       "5      1729.627996\n",
       "6      1609.705918\n",
       "9      1854.489028\n",
       "          ...     \n",
       "491    2227.464385\n",
       "492    2007.541756\n",
       "494    2000.050800\n",
       "495    1513.060134\n",
       "496    1020.757943\n",
       "Name: dollars, Length: 250, dtype: float64"
      ]
     },
     "execution_count": 56,
     "metadata": {},
     "output_type": "execute_result"
    }
   ],
   "source": [
    "New = cred_prom[\"dollars\"].loc[cred_prom[\"insert\"]==\"New Promotion\"]\n",
    "New"
   ]
  },
  {
   "cell_type": "code",
   "execution_count": 59,
   "metadata": {},
   "outputs": [
    {
     "name": "stdout",
     "output_type": "stream",
     "text": [
      "The average spent by the normal standard seasonal ad is $1566.3890309659348\n"
     ]
    }
   ],
   "source": [
    "print(\"The average spent by the normal standard seasonal ad is ${}\".format(standard.mean()))"
   ]
  },
  {
   "cell_type": "code",
   "execution_count": 61,
   "metadata": {},
   "outputs": [
    {
     "name": "stdout",
     "output_type": "stream",
     "text": [
      "The average spent by the New Promotional ad is $1637.4999830647992\n"
     ]
    }
   ],
   "source": [
    "print(\"The average spent by the New Promotional ad is ${}\".format(New.mean()))"
   ]
  },
  {
   "cell_type": "code",
   "execution_count": 64,
   "metadata": {},
   "outputs": [
    {
     "name": "stdout",
     "output_type": "stream",
     "text": [
      "The difference between mean of both spends based on ads recieved by customers is 71.11095209886435\n"
     ]
    }
   ],
   "source": [
    "print(\"The difference between mean of both spends based on ads recieved by customers is {}\".format(New.mean()-standard.mean()))"
   ]
  },
  {
   "cell_type": "markdown",
   "metadata": {},
   "source": [
    "- On average, the customers who recieved the interest-rate promotion charged about $ 71.11 more than the normal standard seasonal ad, and the vary a little more around their average. "
   ]
  },
  {
   "cell_type": "markdown",
   "metadata": {},
   "source": [
    "### Two Sample T-test (Independent)"
   ]
  },
  {
   "cell_type": "raw",
   "metadata": {},
   "source": [
    "Method used: stats.ttest_ind(a=,b=)\n",
    "\n",
    "-Two different assumptions:\n",
    "#1. Standard Seasonal ad and New Promotional ad have equal variance.\n",
    "#2. Standard Seasonal ad and New Promotional ad have unequal variance.\n",
    "\n",
    "-If t-value is same in both the cases : Variance in A == Variance in B\n",
    "  but p-value might differ so we go with equal_var = True\n",
    "\n",
    "-If T-values are different : Variance in A != Variance in B\n",
    "  In this condition we will go with equal_var = False"
   ]
  },
  {
   "cell_type": "markdown",
   "metadata": {},
   "source": [
    "### H0 : Sales Because of Standard Seasonal Ad  ==  Sales because of New Promotional Ad\n",
    "\n",
    "### H1 : Sales Because of Standard Seasonal Ad  <  Sales because of New Promotional Ad"
   ]
  },
  {
   "cell_type": "code",
   "execution_count": 66,
   "metadata": {},
   "outputs": [
    {
     "data": {
      "text/plain": [
       "-2.2604227264649963"
      ]
     },
     "execution_count": 66,
     "metadata": {},
     "output_type": "execute_result"
    }
   ],
   "source": [
    "#Equal Variance i.e equal_var = True\n",
    "eq_var = stats.ttest_ind(a= standard,\n",
    "                         b=New,\n",
    "                        equal_var = True)\n",
    "eq_var.statistic"
   ]
  },
  {
   "cell_type": "code",
   "execution_count": 68,
   "metadata": {},
   "outputs": [
    {
     "data": {
      "text/plain": [
       "-2.260422726464996"
      ]
     },
     "execution_count": 68,
     "metadata": {},
     "output_type": "execute_result"
    }
   ],
   "source": [
    "#Unequal Variance i.e equal_var = False\n",
    "uneq_var = stats.ttest_ind(a= standard,\n",
    "                         b=New,\n",
    "                        equal_var = False)\n",
    "uneq_var.statistic"
   ]
  },
  {
   "cell_type": "markdown",
   "metadata": {},
   "source": [
    "#### We will consider Equal_variance since T-score (statistic) is not having huge difference between both the tests"
   ]
  },
  {
   "cell_type": "code",
   "execution_count": 69,
   "metadata": {},
   "outputs": [
    {
     "data": {
      "text/plain": [
       "4.440892098500626e-16"
      ]
     },
     "execution_count": 69,
     "metadata": {},
     "output_type": "execute_result"
    }
   ],
   "source": [
    "uneq_var.statistic - eq_var.statistic"
   ]
  },
  {
   "cell_type": "code",
   "execution_count": 71,
   "metadata": {},
   "outputs": [
    {
     "name": "stdout",
     "output_type": "stream",
     "text": [
      "For the above test, the t-score is -2.2604227264649963 and the p-value is 0.024225996894147814\n",
      "We reject Null hypothesis\n"
     ]
    }
   ],
   "source": [
    "p = eq_var.pvalue\n",
    "t = eq_var.statistic\n",
    "\n",
    "print(\"For the above test, the t-score is {} and the p-value is {}\".format(t,p))\n",
    "\n",
    "if (p<0.05):\n",
    "    print(\"We reject Null hypothesis\")\n",
    "else:\n",
    "        print(\"We Fail to reject Null hypothesis\")"
   ]
  },
  {
   "cell_type": "markdown",
   "metadata": {},
   "source": [
    "- Since the significant value of the test is less than 0.05, We can safely conclude that the average of 71.11 dollars more spent by cardholders recieving the reduced interest rate is not due to chance alone. The store will now consider extending the offers to all credit cutomers."
   ]
  },
  {
   "cell_type": "markdown",
   "metadata": {},
   "source": [
    "### 3. An experiment is conducted to study the hybrid seed production of bottle gourd under open field conditions. The main aim of the investigation is to compare natural pollination and hand pollination. The data are collected on 10 randomly selected plants from each of natural pollination and hand pollination. The data are collected on fruit weight (kg), seed yield/plant (g) and seedling length (cm). (Data set: pollination.csv)"
   ]
  },
  {
   "cell_type": "code",
   "execution_count": 92,
   "metadata": {},
   "outputs": [
    {
     "data": {
      "text/html": [
       "<div>\n",
       "<style scoped>\n",
       "    .dataframe tbody tr th:only-of-type {\n",
       "        vertical-align: middle;\n",
       "    }\n",
       "\n",
       "    .dataframe tbody tr th {\n",
       "        vertical-align: top;\n",
       "    }\n",
       "\n",
       "    .dataframe thead th {\n",
       "        text-align: right;\n",
       "    }\n",
       "</style>\n",
       "<table border=\"1\" class=\"dataframe\">\n",
       "  <thead>\n",
       "    <tr style=\"text-align: right;\">\n",
       "      <th></th>\n",
       "      <th>Group</th>\n",
       "      <th>Fruit_Wt</th>\n",
       "      <th>Seed_Yield_Plant</th>\n",
       "      <th>Seedling_length</th>\n",
       "    </tr>\n",
       "  </thead>\n",
       "  <tbody>\n",
       "    <tr>\n",
       "      <th>0</th>\n",
       "      <td>Natural</td>\n",
       "      <td>1.85</td>\n",
       "      <td>147.70</td>\n",
       "      <td>16.86</td>\n",
       "    </tr>\n",
       "    <tr>\n",
       "      <th>1</th>\n",
       "      <td>Natural</td>\n",
       "      <td>1.86</td>\n",
       "      <td>136.86</td>\n",
       "      <td>16.77</td>\n",
       "    </tr>\n",
       "    <tr>\n",
       "      <th>2</th>\n",
       "      <td>Natural</td>\n",
       "      <td>1.83</td>\n",
       "      <td>149.97</td>\n",
       "      <td>16.35</td>\n",
       "    </tr>\n",
       "    <tr>\n",
       "      <th>3</th>\n",
       "      <td>Natural</td>\n",
       "      <td>1.89</td>\n",
       "      <td>172.33</td>\n",
       "      <td>18.26</td>\n",
       "    </tr>\n",
       "    <tr>\n",
       "      <th>4</th>\n",
       "      <td>Natural</td>\n",
       "      <td>1.80</td>\n",
       "      <td>144.46</td>\n",
       "      <td>17.90</td>\n",
       "    </tr>\n",
       "    <tr>\n",
       "      <th>5</th>\n",
       "      <td>Natural</td>\n",
       "      <td>1.88</td>\n",
       "      <td>138.30</td>\n",
       "      <td>16.95</td>\n",
       "    </tr>\n",
       "    <tr>\n",
       "      <th>6</th>\n",
       "      <td>Natural</td>\n",
       "      <td>1.89</td>\n",
       "      <td>150.58</td>\n",
       "      <td>18.15</td>\n",
       "    </tr>\n",
       "    <tr>\n",
       "      <th>7</th>\n",
       "      <td>Natural</td>\n",
       "      <td>1.79</td>\n",
       "      <td>140.99</td>\n",
       "      <td>18.86</td>\n",
       "    </tr>\n",
       "    <tr>\n",
       "      <th>8</th>\n",
       "      <td>Natural</td>\n",
       "      <td>1.85</td>\n",
       "      <td>140.57</td>\n",
       "      <td>18.39</td>\n",
       "    </tr>\n",
       "    <tr>\n",
       "      <th>9</th>\n",
       "      <td>Natural</td>\n",
       "      <td>1.84</td>\n",
       "      <td>138.33</td>\n",
       "      <td>18.58</td>\n",
       "    </tr>\n",
       "    <tr>\n",
       "      <th>10</th>\n",
       "      <td>Hand</td>\n",
       "      <td>2.58</td>\n",
       "      <td>224.26</td>\n",
       "      <td>18.18</td>\n",
       "    </tr>\n",
       "    <tr>\n",
       "      <th>11</th>\n",
       "      <td>Hand</td>\n",
       "      <td>2.74</td>\n",
       "      <td>197.50</td>\n",
       "      <td>18.07</td>\n",
       "    </tr>\n",
       "    <tr>\n",
       "      <th>12</th>\n",
       "      <td>Hand</td>\n",
       "      <td>2.58</td>\n",
       "      <td>230.34</td>\n",
       "      <td>19.07</td>\n",
       "    </tr>\n",
       "    <tr>\n",
       "      <th>13</th>\n",
       "      <td>Hand</td>\n",
       "      <td>2.62</td>\n",
       "      <td>217.05</td>\n",
       "      <td>19.00</td>\n",
       "    </tr>\n",
       "    <tr>\n",
       "      <th>14</th>\n",
       "      <td>Hand</td>\n",
       "      <td>2.68</td>\n",
       "      <td>233.84</td>\n",
       "      <td>18.00</td>\n",
       "    </tr>\n",
       "    <tr>\n",
       "      <th>15</th>\n",
       "      <td>Hand</td>\n",
       "      <td>2.56</td>\n",
       "      <td>216.52</td>\n",
       "      <td>18.49</td>\n",
       "    </tr>\n",
       "    <tr>\n",
       "      <th>16</th>\n",
       "      <td>Hand</td>\n",
       "      <td>2.34</td>\n",
       "      <td>211.93</td>\n",
       "      <td>17.45</td>\n",
       "    </tr>\n",
       "    <tr>\n",
       "      <th>17</th>\n",
       "      <td>Hand</td>\n",
       "      <td>2.67</td>\n",
       "      <td>210.37</td>\n",
       "      <td>18.97</td>\n",
       "    </tr>\n",
       "    <tr>\n",
       "      <th>18</th>\n",
       "      <td>Hand</td>\n",
       "      <td>2.45</td>\n",
       "      <td>199.87</td>\n",
       "      <td>19.31</td>\n",
       "    </tr>\n",
       "    <tr>\n",
       "      <th>19</th>\n",
       "      <td>Hand</td>\n",
       "      <td>2.44</td>\n",
       "      <td>214.30</td>\n",
       "      <td>19.36</td>\n",
       "    </tr>\n",
       "  </tbody>\n",
       "</table>\n",
       "</div>"
      ],
      "text/plain": [
       "      Group  Fruit_Wt  Seed_Yield_Plant  Seedling_length\n",
       "0   Natural      1.85            147.70            16.86\n",
       "1   Natural      1.86            136.86            16.77\n",
       "2   Natural      1.83            149.97            16.35\n",
       "3   Natural      1.89            172.33            18.26\n",
       "4   Natural      1.80            144.46            17.90\n",
       "5   Natural      1.88            138.30            16.95\n",
       "6   Natural      1.89            150.58            18.15\n",
       "7   Natural      1.79            140.99            18.86\n",
       "8   Natural      1.85            140.57            18.39\n",
       "9   Natural      1.84            138.33            18.58\n",
       "10     Hand      2.58            224.26            18.18\n",
       "11     Hand      2.74            197.50            18.07\n",
       "12     Hand      2.58            230.34            19.07\n",
       "13     Hand      2.62            217.05            19.00\n",
       "14     Hand      2.68            233.84            18.00\n",
       "15     Hand      2.56            216.52            18.49\n",
       "16     Hand      2.34            211.93            17.45\n",
       "17     Hand      2.67            210.37            18.97\n",
       "18     Hand      2.45            199.87            19.31\n",
       "19     Hand      2.44            214.30            19.36"
      ]
     },
     "execution_count": 92,
     "metadata": {},
     "output_type": "execute_result"
    }
   ],
   "source": [
    "Poll = pd.read_csv(\"E:Datasets/pollination.csv\")\n",
    "Poll"
   ]
  },
  {
   "cell_type": "markdown",
   "metadata": {},
   "source": [
    "### a.  Is the overall population of Seed yield/plant (g) equals to 200?\n"
   ]
  },
  {
   "cell_type": "markdown",
   "metadata": {},
   "source": [
    "### One Sample T-test"
   ]
  },
  {
   "cell_type": "markdown",
   "metadata": {},
   "source": [
    "- Method used : stats.ttest_1samp(a=, popmean= )\n",
    "#### H0 : Population of Seed yield / plant == 200\n",
    "#### H1 : Population of Seed yield / plant != 200\n"
   ]
  },
  {
   "cell_type": "code",
   "execution_count": 77,
   "metadata": {},
   "outputs": [
    {
     "data": {
      "text/plain": [
       "180.8035"
      ]
     },
     "execution_count": 77,
     "metadata": {},
     "output_type": "execute_result"
    }
   ],
   "source": [
    "#Mean\n",
    "Poll.Seed_Yield_Plant.mean()"
   ]
  },
  {
   "cell_type": "code",
   "execution_count": 80,
   "metadata": {},
   "outputs": [
    {
     "name": "stdout",
     "output_type": "stream",
     "text": [
      "The p value is 0.032891040921283025 and the t score is -2.3\n"
     ]
    }
   ],
   "source": [
    "ttest_1 = stats.ttest_1samp(a= Poll.Seed_Yield_Plant, popmean= 200)\n",
    "t_score = round(ttest_1.statistic, 2)\n",
    "p_value = ttest_1.pvalue\n",
    "print(\"The p value is {} and the t score is {}\".format(p_value,t_score))"
   ]
  },
  {
   "cell_type": "code",
   "execution_count": 82,
   "metadata": {},
   "outputs": [
    {
     "data": {
      "text/plain": [
       "False"
      ]
     },
     "execution_count": 82,
     "metadata": {},
     "output_type": "execute_result"
    }
   ],
   "source": [
    "p_value > 0.05"
   ]
  },
  {
   "cell_type": "markdown",
   "metadata": {},
   "source": [
    "- Since the significance value of the T-test is less than 0.05, We Reject Null hypothesis. Therefore overall population of Seed yield/plant is not equal to 200."
   ]
  },
  {
   "cell_type": "markdown",
   "metadata": {},
   "source": [
    "### b.  Test whether the natural pollination and hand pollination under open field conditions are equally effective or are significantly different.\n"
   ]
  },
  {
   "cell_type": "markdown",
   "metadata": {},
   "source": [
    "### Two Sample T-test(Paired)\n",
    "#### Method used: stats.ttest_rel(a=,b=)"
   ]
  },
  {
   "cell_type": "markdown",
   "metadata": {},
   "source": [
    "### Stage-1"
   ]
  },
  {
   "cell_type": "code",
   "execution_count": 100,
   "metadata": {},
   "outputs": [],
   "source": [
    "Natural_fruit_wt = Poll[\"Fruit_Wt\"].loc[Poll[\"Group\"] == \"Natural\"]\n",
    "Hand_fruit_wt = Poll[\"Fruit_Wt\"].loc[Poll[\"Group\"] == \"Hand\"]"
   ]
  },
  {
   "cell_type": "code",
   "execution_count": 101,
   "metadata": {},
   "outputs": [
    {
     "data": {
      "text/plain": [
       "1.848"
      ]
     },
     "execution_count": 101,
     "metadata": {},
     "output_type": "execute_result"
    }
   ],
   "source": [
    "Natural_fruit_wt.mean()"
   ]
  },
  {
   "cell_type": "code",
   "execution_count": 104,
   "metadata": {},
   "outputs": [
    {
     "name": "stdout",
     "output_type": "stream",
     "text": [
      "The Mean of Natural Pollination of Fruit_wt is 1.848\n"
     ]
    }
   ],
   "source": [
    "print(\"The Mean of Natural Pollination of Fruit_wt is {}\".format(Natural_fruit_wt.mean()))"
   ]
  },
  {
   "cell_type": "code",
   "execution_count": 102,
   "metadata": {},
   "outputs": [
    {
     "data": {
      "text/plain": [
       "2.5660000000000003"
      ]
     },
     "execution_count": 102,
     "metadata": {},
     "output_type": "execute_result"
    }
   ],
   "source": [
    "Hand_fruit_wt.mean()"
   ]
  },
  {
   "cell_type": "code",
   "execution_count": 105,
   "metadata": {},
   "outputs": [
    {
     "name": "stdout",
     "output_type": "stream",
     "text": [
      "The Mean of Hand Pollination of Fruit_wt is 2.5660000000000003\n"
     ]
    }
   ],
   "source": [
    "print(\"The Mean of Hand Pollination of Fruit_wt is {}\".format(Hand_fruit_wt.mean()))"
   ]
  },
  {
   "cell_type": "code",
   "execution_count": 103,
   "metadata": {},
   "outputs": [
    {
     "data": {
      "text/plain": [
       "0.7180000000000002"
      ]
     },
     "execution_count": 103,
     "metadata": {},
     "output_type": "execute_result"
    }
   ],
   "source": [
    "diff = Hand_fruit_wt.mean() - Natural_fruit_wt.mean()\n",
    "diff"
   ]
  },
  {
   "cell_type": "raw",
   "metadata": {},
   "source": [
    "-The Mean gives the difference between the averages of the two samples. Therefore,\n",
    "In the case of Fruit weight(Natural Fruit_wt and Hand Fruit_wt), the difference in means of the two samples is 0.71800. Therefore, we can conclude accros all Bottle Gourd the Weight increased slightly in Hand pollination."
   ]
  },
  {
   "cell_type": "markdown",
   "metadata": {},
   "source": [
    "#### H0 : Fruit_wt(Natural) = Fruit_wt(Hand)\n",
    "#### H1 : Fruit_wt(Natural) <> Fruit_wt(Hand)"
   ]
  },
  {
   "cell_type": "code",
   "execution_count": 107,
   "metadata": {},
   "outputs": [
    {
     "name": "stdout",
     "output_type": "stream",
     "text": [
      "The t-score is -16.003484109505287 and the p-value is 6.420421224715851e-08\n"
     ]
    }
   ],
   "source": [
    "#Stage 1\n",
    "ttest1 = stats.ttest_rel(a=Natural_fruit_wt,b=Hand_fruit_wt)\n",
    "\n",
    "\n",
    "#Statistic : t score\n",
    "t1 = ttest1.statistic\n",
    "\n",
    "# P value\n",
    "p1 = ttest1.pvalue\n",
    "\n",
    "print(\"The t-score is {} and the p-value is {}\".format(t1,p1))"
   ]
  },
  {
   "cell_type": "code",
   "execution_count": 108,
   "metadata": {},
   "outputs": [
    {
     "data": {
      "text/plain": [
       "False"
      ]
     },
     "execution_count": 108,
     "metadata": {},
     "output_type": "execute_result"
    }
   ],
   "source": [
    "p1 > 0.05"
   ]
  },
  {
   "cell_type": "markdown",
   "metadata": {},
   "source": [
    "- Since p1 is smaller than 0.05 we reject Null hypothesis(H0)"
   ]
  },
  {
   "cell_type": "markdown",
   "metadata": {},
   "source": [
    "### Stage-2"
   ]
  },
  {
   "cell_type": "code",
   "execution_count": 111,
   "metadata": {},
   "outputs": [],
   "source": [
    "Natural_Seed_yield = Poll[\"Seed_Yield_Plant\"].loc[Poll[\"Group\"] == \"Natural\"]\n",
    "Hand_Seed_yield = Poll[\"Seed_Yield_Plant\"].loc[Poll[\"Group\"] == \"Hand\"]"
   ]
  },
  {
   "cell_type": "code",
   "execution_count": 112,
   "metadata": {},
   "outputs": [
    {
     "data": {
      "text/plain": [
       "146.009"
      ]
     },
     "execution_count": 112,
     "metadata": {},
     "output_type": "execute_result"
    }
   ],
   "source": [
    "Natural_Seed_yield.mean()"
   ]
  },
  {
   "cell_type": "code",
   "execution_count": 117,
   "metadata": {},
   "outputs": [
    {
     "name": "stdout",
     "output_type": "stream",
     "text": [
      "The Mean Weight of Natural Pollination of Seed_yield_plant is 146.009\n"
     ]
    }
   ],
   "source": [
    "print(\"The Mean Weight of Natural Pollination of Seed_yield_plant is {}\".format(Natural_Seed_yield.mean()))"
   ]
  },
  {
   "cell_type": "code",
   "execution_count": 118,
   "metadata": {},
   "outputs": [
    {
     "data": {
      "text/plain": [
       "215.598"
      ]
     },
     "execution_count": 118,
     "metadata": {},
     "output_type": "execute_result"
    }
   ],
   "source": [
    "Hand_Seed_yield.mean()"
   ]
  },
  {
   "cell_type": "code",
   "execution_count": 119,
   "metadata": {},
   "outputs": [
    {
     "name": "stdout",
     "output_type": "stream",
     "text": [
      "The Mean Weight of Hand Pollination of Seed_yield_plant is 215.598\n"
     ]
    }
   ],
   "source": [
    "print(\"The Mean Weight of Hand Pollination of Seed_yield_plant is {}\".format(Hand_Seed_yield.mean()))"
   ]
  },
  {
   "cell_type": "code",
   "execution_count": 116,
   "metadata": {},
   "outputs": [
    {
     "data": {
      "text/plain": [
       "69.58900000000003"
      ]
     },
     "execution_count": 116,
     "metadata": {},
     "output_type": "execute_result"
    }
   ],
   "source": [
    "diff = Hand_Seed_yield.mean() - Natural_Seed_yield.mean()\n",
    "diff"
   ]
  },
  {
   "cell_type": "raw",
   "metadata": {},
   "source": [
    "-The Mean gives the difference between the averages of the two samples. Therefore,\n",
    "In the case of Seed_yield_plant(Natural Seed_yield_plant and Hand Seed_yield_plant), the difference in means of the two samples is 69.589. Therefore, we can conclude accros all the plants the Weight is increased slightly in Hand pollination."
   ]
  },
  {
   "cell_type": "markdown",
   "metadata": {},
   "source": [
    "#### H0 : Seed_Yield_Plant(Natural) = Seed_Yield_Plant(Hand)\n",
    "#### H1 : Seed_Yield_Plant(Natural) <>Seed_Yield_Plant(Hand)"
   ]
  },
  {
   "cell_type": "code",
   "execution_count": 120,
   "metadata": {},
   "outputs": [
    {
     "name": "stdout",
     "output_type": "stream",
     "text": [
      "The t-score is -16.80079294985747 and the p-value is 4.198813240596638e-08\n"
     ]
    }
   ],
   "source": [
    "#Stage 2\n",
    "ttest2 = stats.ttest_rel(a=Natural_Seed_yield,b=Hand_Seed_yield)\n",
    "\n",
    "\n",
    "#Statistic : t score\n",
    "t2 = ttest2.statistic\n",
    "\n",
    "# P value\n",
    "p2 = ttest2.pvalue\n",
    "\n",
    "print(\"The t-score is {} and the p-value is {}\".format(t2,p2))"
   ]
  },
  {
   "cell_type": "code",
   "execution_count": 121,
   "metadata": {},
   "outputs": [
    {
     "data": {
      "text/plain": [
       "False"
      ]
     },
     "execution_count": 121,
     "metadata": {},
     "output_type": "execute_result"
    }
   ],
   "source": [
    "p2 > 0.05"
   ]
  },
  {
   "cell_type": "markdown",
   "metadata": {},
   "source": [
    "- Since the p2 is lesser than 0.05 we reject Null hypotheis(H0)"
   ]
  },
  {
   "cell_type": "markdown",
   "metadata": {},
   "source": [
    "### Stage-3"
   ]
  },
  {
   "cell_type": "code",
   "execution_count": 123,
   "metadata": {},
   "outputs": [],
   "source": [
    "Natural_Seedling_length = Poll[\"Seedling_length\"].loc[Poll[\"Group\"] == \"Natural\"]\n",
    "Hand_Seedling_length = Poll[\"Seedling_length\"].loc[Poll[\"Group\"] == \"Hand\"]"
   ]
  },
  {
   "cell_type": "code",
   "execution_count": 125,
   "metadata": {},
   "outputs": [
    {
     "data": {
      "text/plain": [
       "17.706999999999994"
      ]
     },
     "execution_count": 125,
     "metadata": {},
     "output_type": "execute_result"
    }
   ],
   "source": [
    "Natural_Seedling_length.mean()"
   ]
  },
  {
   "cell_type": "code",
   "execution_count": 127,
   "metadata": {},
   "outputs": [
    {
     "name": "stdout",
     "output_type": "stream",
     "text": [
      "The Mean of Natural_Seedling_length is 17.706999999999994\n"
     ]
    }
   ],
   "source": [
    "print(\"The Mean of Natural_Seedling_length is {}\".format(Natural_Seedling_length.mean()))"
   ]
  },
  {
   "cell_type": "code",
   "execution_count": 126,
   "metadata": {},
   "outputs": [
    {
     "data": {
      "text/plain": [
       "18.589999999999996"
      ]
     },
     "execution_count": 126,
     "metadata": {},
     "output_type": "execute_result"
    }
   ],
   "source": [
    "Hand_Seedling_length.mean()"
   ]
  },
  {
   "cell_type": "code",
   "execution_count": 128,
   "metadata": {},
   "outputs": [
    {
     "name": "stdout",
     "output_type": "stream",
     "text": [
      "The Mean of Hand_Seedling_length is 18.589999999999996\n"
     ]
    }
   ],
   "source": [
    "print(\"The Mean of Hand_Seedling_length is {}\".format(Hand_Seedling_length.mean()))"
   ]
  },
  {
   "cell_type": "code",
   "execution_count": 131,
   "metadata": {},
   "outputs": [
    {
     "data": {
      "text/plain": [
       "0.8830000000000027"
      ]
     },
     "execution_count": 131,
     "metadata": {},
     "output_type": "execute_result"
    }
   ],
   "source": [
    "diff = Hand_Seedling_length.mean() - Natural_Seedling_length.mean()\n",
    "diff"
   ]
  },
  {
   "cell_type": "raw",
   "metadata": {},
   "source": [
    "-The Mean gives the difference between the averages of the two samples. Therefore,\n",
    "In the case of Seedling_length(Natural Seedling_length and Hand Seedling_length), the difference in means of the two samples is 0.8830. Therefore, we can conclude accros all the Seedling the length is increased slightly in Hand pollination."
   ]
  },
  {
   "cell_type": "markdown",
   "metadata": {},
   "source": [
    "#### H0 : Seedling_length(Natural) = Seedling_length(Hand)\n",
    "#### H1 : Seedling_length(Natural) <>Seedling_length(Hand)"
   ]
  },
  {
   "cell_type": "code",
   "execution_count": 135,
   "metadata": {},
   "outputs": [
    {
     "name": "stdout",
     "output_type": "stream",
     "text": [
      "The t-score is -2.9765905136151303 and the p-value is 0.015535315669362245\n"
     ]
    }
   ],
   "source": [
    "#Stage 3\n",
    "ttest3 = stats.ttest_rel(a=Natural_Seedling_length,b=Hand_Seedling_length)\n",
    "\n",
    "\n",
    "#Statistic : t score\n",
    "t3 = ttest3.statistic\n",
    "\n",
    "# P value\n",
    "p3 = ttest3.pvalue\n",
    "\n",
    "print(\"The t-score is {} and the p-value is {}\".format(t3,p3))"
   ]
  },
  {
   "cell_type": "code",
   "execution_count": 137,
   "metadata": {},
   "outputs": [
    {
     "data": {
      "text/plain": [
       "False"
      ]
     },
     "execution_count": 137,
     "metadata": {},
     "output_type": "execute_result"
    }
   ],
   "source": [
    "p3 > 0.05"
   ]
  },
  {
   "cell_type": "markdown",
   "metadata": {},
   "source": [
    "- Since the p3 is lesser than 0.05 we reject Null hypothesis(H0)"
   ]
  },
  {
   "cell_type": "markdown",
   "metadata": {},
   "source": [
    "### Conclusion"
   ]
  },
  {
   "cell_type": "markdown",
   "metadata": {},
   "source": [
    "- Since we rejected Null Hypothesis in each stages we can confidently conclude that,the natural pollination and hand pollination under open field conditions are not equally effective but Significantly Hand poolination is more effective because,\n",
    "- Average weight per Fruit is increased in Hand pollination, Average weight per Seed_Yield_Plant is increased in Hand Pollination, Average length per Seedling is increased in Hand Pollination"
   ]
  },
  {
   "cell_type": "markdown",
   "metadata": {},
   "source": [
    "### 4. An electronics firm is developing a new DVD player in response to customer requests. Using a prototype, the marketing team has collected focus data for different age groups viz. Under 25; 25-34; 35-44; 45-54; 55-64; 65 and above. Do you think that consumers of various ages rated the design differently? (Data set: dvdplayer.csv).\n"
   ]
  },
  {
   "cell_type": "code",
   "execution_count": 139,
   "metadata": {},
   "outputs": [
    {
     "data": {
      "text/html": [
       "<div>\n",
       "<style scoped>\n",
       "    .dataframe tbody tr th:only-of-type {\n",
       "        vertical-align: middle;\n",
       "    }\n",
       "\n",
       "    .dataframe tbody tr th {\n",
       "        vertical-align: top;\n",
       "    }\n",
       "\n",
       "    .dataframe thead th {\n",
       "        text-align: right;\n",
       "    }\n",
       "</style>\n",
       "<table border=\"1\" class=\"dataframe\">\n",
       "  <thead>\n",
       "    <tr style=\"text-align: right;\">\n",
       "      <th></th>\n",
       "      <th>agegroup</th>\n",
       "      <th>dvdscore</th>\n",
       "    </tr>\n",
       "  </thead>\n",
       "  <tbody>\n",
       "    <tr>\n",
       "      <th>0</th>\n",
       "      <td>65 and over</td>\n",
       "      <td>38.454803</td>\n",
       "    </tr>\n",
       "    <tr>\n",
       "      <th>1</th>\n",
       "      <td>55-64</td>\n",
       "      <td>17.669677</td>\n",
       "    </tr>\n",
       "    <tr>\n",
       "      <th>2</th>\n",
       "      <td>65 and over</td>\n",
       "      <td>31.704307</td>\n",
       "    </tr>\n",
       "    <tr>\n",
       "      <th>3</th>\n",
       "      <td>65 and over</td>\n",
       "      <td>25.924460</td>\n",
       "    </tr>\n",
       "    <tr>\n",
       "      <th>4</th>\n",
       "      <td>Under 25</td>\n",
       "      <td>30.450007</td>\n",
       "    </tr>\n",
       "    <tr>\n",
       "      <th>...</th>\n",
       "      <td>...</td>\n",
       "      <td>...</td>\n",
       "    </tr>\n",
       "    <tr>\n",
       "      <th>63</th>\n",
       "      <td>45-54</td>\n",
       "      <td>46.567682</td>\n",
       "    </tr>\n",
       "    <tr>\n",
       "      <th>64</th>\n",
       "      <td>65 and over</td>\n",
       "      <td>23.999491</td>\n",
       "    </tr>\n",
       "    <tr>\n",
       "      <th>65</th>\n",
       "      <td>Under 25</td>\n",
       "      <td>24.994419</td>\n",
       "    </tr>\n",
       "    <tr>\n",
       "      <th>66</th>\n",
       "      <td>65 and over</td>\n",
       "      <td>33.538502</td>\n",
       "    </tr>\n",
       "    <tr>\n",
       "      <th>67</th>\n",
       "      <td>45-54</td>\n",
       "      <td>37.201829</td>\n",
       "    </tr>\n",
       "  </tbody>\n",
       "</table>\n",
       "<p>68 rows × 2 columns</p>\n",
       "</div>"
      ],
      "text/plain": [
       "       agegroup   dvdscore\n",
       "0   65 and over  38.454803\n",
       "1         55-64  17.669677\n",
       "2   65 and over  31.704307\n",
       "3   65 and over  25.924460\n",
       "4      Under 25  30.450007\n",
       "..          ...        ...\n",
       "63        45-54  46.567682\n",
       "64  65 and over  23.999491\n",
       "65     Under 25  24.994419\n",
       "66  65 and over  33.538502\n",
       "67        45-54  37.201829\n",
       "\n",
       "[68 rows x 2 columns]"
      ]
     },
     "execution_count": 139,
     "metadata": {},
     "output_type": "execute_result"
    }
   ],
   "source": [
    "dvd = pd.read_csv(\"E:Datasets/dvdplayer.csv\")\n",
    "dvd"
   ]
  },
  {
   "cell_type": "markdown",
   "metadata": {},
   "source": [
    "### F-test / Anova"
   ]
  },
  {
   "cell_type": "markdown",
   "metadata": {},
   "source": [
    "- Method used : stats.f_oneway"
   ]
  },
  {
   "cell_type": "code",
   "execution_count": 141,
   "metadata": {},
   "outputs": [],
   "source": [
    "age_group_1 = dvd['dvdscore'].loc[dvd['agegroup']==\"65 and over\"]\n",
    "age_group_2 = dvd['dvdscore'].loc[dvd['agegroup']==\"55-64\"]\n",
    "age_group_3 = dvd['dvdscore'].loc[dvd['agegroup']==\"Under 25\"]\n",
    "age_group_4 = dvd['dvdscore'].loc[dvd['agegroup']==\"35-44\"]\n",
    "age_group_5 = dvd['dvdscore'].loc[dvd['agegroup']==\"45-54\"]\n",
    "age_group_6 = dvd['dvdscore'].loc[dvd['agegroup']==\"25-34\"]\n"
   ]
  },
  {
   "cell_type": "markdown",
   "metadata": {},
   "source": [
    "#### Consumers of various age groups rated the design similarly :\n",
    "\n",
    "#### H0 : Mean(age group_1(65 and over)) == mean(age group_2(55-64)) == mean(age group3(Under 25)) == mean(age group4(35-54))                 \n",
    "#### == mean(age group5(45-54)) == mean(age group 6(25-34))\n",
    " \n",
    "#### Consumers of various age groups rated the design differently :                     \n",
    "\n",
    "#### Ha  : mean(age group 1(65 and over)) != mean(age group 2(55-64)) != mean(age group 3(Under 25))!= mean(age group 4(35-54)) != \n",
    "\n",
    "#### mean(age group 5(45-54)) != mean(age group 6(25-34))\n",
    "                         \n",
    "                         \n"
   ]
  },
  {
   "cell_type": "code",
   "execution_count": 144,
   "metadata": {},
   "outputs": [
    {
     "name": "stdout",
     "output_type": "stream",
     "text": [
      "The f-value is 6.992526962676517 and the p value is 3.087324905679639e-05\n",
      "We reject null hypothesis\n"
     ]
    }
   ],
   "source": [
    "# Perfrom the Anova\n",
    "anova = stats.f_oneway(age_group_1,age_group_2,age_group_3,age_group_4,age_group_5,age_group_6)\n",
    "\n",
    "# Statistic :  F Value\n",
    "f = anova.statistic\n",
    "\n",
    "#P-value\n",
    "p = anova.pvalue\n",
    "print(\"The f-value is {} and the p value is {}\".format(f,p))\n",
    "if(p<0.05):\n",
    "    print('We reject null hypothesis')\n",
    "else:\n",
    "    print('We fail to reject null hypothesis')"
   ]
  },
  {
   "cell_type": "markdown",
   "metadata": {},
   "source": [
    "### Conclusion"
   ]
  },
  {
   "cell_type": "markdown",
   "metadata": {},
   "source": [
    "* Since the significance value of the test is less than 0.05, we reject the null hypothesis. Therefore,consumers of various ages rated the design differently"
   ]
  },
  {
   "cell_type": "markdown",
   "metadata": {},
   "source": [
    "### 5. A  survey  was  conducted  among  2800  customers  on  several  demographic characteristics. Working status, sex, age, age-group, race, happiness, no. of child, marital status, educational qualifications, income group etc. had been captured for that purpose. (Data set: sample_survey.csv).\n",
    "\n"
   ]
  },
  {
   "cell_type": "code",
   "execution_count": 146,
   "metadata": {},
   "outputs": [
    {
     "data": {
      "text/html": [
       "<div>\n",
       "<style scoped>\n",
       "    .dataframe tbody tr th:only-of-type {\n",
       "        vertical-align: middle;\n",
       "    }\n",
       "\n",
       "    .dataframe tbody tr th {\n",
       "        vertical-align: top;\n",
       "    }\n",
       "\n",
       "    .dataframe thead th {\n",
       "        text-align: right;\n",
       "    }\n",
       "</style>\n",
       "<table border=\"1\" class=\"dataframe\">\n",
       "  <thead>\n",
       "    <tr style=\"text-align: right;\">\n",
       "      <th></th>\n",
       "      <th>id</th>\n",
       "      <th>wrkstat</th>\n",
       "      <th>marital</th>\n",
       "      <th>childs</th>\n",
       "      <th>age</th>\n",
       "      <th>educ</th>\n",
       "      <th>paeduc</th>\n",
       "      <th>maeduc</th>\n",
       "      <th>speduc</th>\n",
       "      <th>degree</th>\n",
       "      <th>...</th>\n",
       "      <th>agecat</th>\n",
       "      <th>childcat</th>\n",
       "      <th>news1</th>\n",
       "      <th>news2</th>\n",
       "      <th>news3</th>\n",
       "      <th>news4</th>\n",
       "      <th>news5</th>\n",
       "      <th>car1</th>\n",
       "      <th>car2</th>\n",
       "      <th>car3</th>\n",
       "    </tr>\n",
       "  </thead>\n",
       "  <tbody>\n",
       "    <tr>\n",
       "      <th>0</th>\n",
       "      <td>1</td>\n",
       "      <td>Working full time</td>\n",
       "      <td>Divorced</td>\n",
       "      <td>2.0</td>\n",
       "      <td>60.0</td>\n",
       "      <td>12.0</td>\n",
       "      <td>12.0</td>\n",
       "      <td>12.0</td>\n",
       "      <td>NaN</td>\n",
       "      <td>High school</td>\n",
       "      <td>...</td>\n",
       "      <td>55 to 64</td>\n",
       "      <td>1-2</td>\n",
       "      <td>No</td>\n",
       "      <td>No</td>\n",
       "      <td>No</td>\n",
       "      <td>No</td>\n",
       "      <td>No</td>\n",
       "      <td>American</td>\n",
       "      <td>Japanese</td>\n",
       "      <td>Japanese</td>\n",
       "    </tr>\n",
       "    <tr>\n",
       "      <th>1</th>\n",
       "      <td>2</td>\n",
       "      <td>Working part-time</td>\n",
       "      <td>Never married</td>\n",
       "      <td>0.0</td>\n",
       "      <td>27.0</td>\n",
       "      <td>17.0</td>\n",
       "      <td>20.0</td>\n",
       "      <td>NaN</td>\n",
       "      <td>NaN</td>\n",
       "      <td>Junior college</td>\n",
       "      <td>...</td>\n",
       "      <td>25 to 34</td>\n",
       "      <td>None</td>\n",
       "      <td>No</td>\n",
       "      <td>No</td>\n",
       "      <td>Yes</td>\n",
       "      <td>No</td>\n",
       "      <td>No</td>\n",
       "      <td>American</td>\n",
       "      <td>German</td>\n",
       "      <td>Japanese</td>\n",
       "    </tr>\n",
       "    <tr>\n",
       "      <th>2</th>\n",
       "      <td>3</td>\n",
       "      <td>Working full time</td>\n",
       "      <td>Married</td>\n",
       "      <td>2.0</td>\n",
       "      <td>36.0</td>\n",
       "      <td>12.0</td>\n",
       "      <td>12.0</td>\n",
       "      <td>12.0</td>\n",
       "      <td>16.0</td>\n",
       "      <td>High school</td>\n",
       "      <td>...</td>\n",
       "      <td>35 to 44</td>\n",
       "      <td>1-2</td>\n",
       "      <td>No</td>\n",
       "      <td>No</td>\n",
       "      <td>No</td>\n",
       "      <td>Yes</td>\n",
       "      <td>Yes</td>\n",
       "      <td>American</td>\n",
       "      <td>American</td>\n",
       "      <td>NaN</td>\n",
       "    </tr>\n",
       "    <tr>\n",
       "      <th>3</th>\n",
       "      <td>4</td>\n",
       "      <td>Working full time</td>\n",
       "      <td>Never married</td>\n",
       "      <td>0.0</td>\n",
       "      <td>21.0</td>\n",
       "      <td>13.0</td>\n",
       "      <td>NaN</td>\n",
       "      <td>12.0</td>\n",
       "      <td>NaN</td>\n",
       "      <td>High school</td>\n",
       "      <td>...</td>\n",
       "      <td>Less than 25</td>\n",
       "      <td>None</td>\n",
       "      <td>No</td>\n",
       "      <td>No</td>\n",
       "      <td>No</td>\n",
       "      <td>Yes</td>\n",
       "      <td>Yes</td>\n",
       "      <td>American</td>\n",
       "      <td>Other</td>\n",
       "      <td>NaN</td>\n",
       "    </tr>\n",
       "    <tr>\n",
       "      <th>4</th>\n",
       "      <td>5</td>\n",
       "      <td>Working full time</td>\n",
       "      <td>Never married</td>\n",
       "      <td>0.0</td>\n",
       "      <td>35.0</td>\n",
       "      <td>16.0</td>\n",
       "      <td>NaN</td>\n",
       "      <td>12.0</td>\n",
       "      <td>NaN</td>\n",
       "      <td>Bachelor</td>\n",
       "      <td>...</td>\n",
       "      <td>35 to 44</td>\n",
       "      <td>None</td>\n",
       "      <td>No</td>\n",
       "      <td>No</td>\n",
       "      <td>No</td>\n",
       "      <td>No</td>\n",
       "      <td>No</td>\n",
       "      <td>American</td>\n",
       "      <td>American</td>\n",
       "      <td>Korean</td>\n",
       "    </tr>\n",
       "    <tr>\n",
       "      <th>...</th>\n",
       "      <td>...</td>\n",
       "      <td>...</td>\n",
       "      <td>...</td>\n",
       "      <td>...</td>\n",
       "      <td>...</td>\n",
       "      <td>...</td>\n",
       "      <td>...</td>\n",
       "      <td>...</td>\n",
       "      <td>...</td>\n",
       "      <td>...</td>\n",
       "      <td>...</td>\n",
       "      <td>...</td>\n",
       "      <td>...</td>\n",
       "      <td>...</td>\n",
       "      <td>...</td>\n",
       "      <td>...</td>\n",
       "      <td>...</td>\n",
       "      <td>...</td>\n",
       "      <td>...</td>\n",
       "      <td>...</td>\n",
       "      <td>...</td>\n",
       "    </tr>\n",
       "    <tr>\n",
       "      <th>2827</th>\n",
       "      <td>2828</td>\n",
       "      <td>Working full time</td>\n",
       "      <td>Married</td>\n",
       "      <td>2.0</td>\n",
       "      <td>73.0</td>\n",
       "      <td>14.0</td>\n",
       "      <td>8.0</td>\n",
       "      <td>12.0</td>\n",
       "      <td>12.0</td>\n",
       "      <td>Junior college</td>\n",
       "      <td>...</td>\n",
       "      <td>65 or older</td>\n",
       "      <td>1-2</td>\n",
       "      <td>No</td>\n",
       "      <td>No</td>\n",
       "      <td>No</td>\n",
       "      <td>No</td>\n",
       "      <td>No</td>\n",
       "      <td>American</td>\n",
       "      <td>American</td>\n",
       "      <td>German</td>\n",
       "    </tr>\n",
       "    <tr>\n",
       "      <th>2828</th>\n",
       "      <td>2829</td>\n",
       "      <td>Working full time</td>\n",
       "      <td>Divorced</td>\n",
       "      <td>0.0</td>\n",
       "      <td>40.0</td>\n",
       "      <td>12.0</td>\n",
       "      <td>12.0</td>\n",
       "      <td>12.0</td>\n",
       "      <td>NaN</td>\n",
       "      <td>High school</td>\n",
       "      <td>...</td>\n",
       "      <td>35 to 44</td>\n",
       "      <td>None</td>\n",
       "      <td>No</td>\n",
       "      <td>No</td>\n",
       "      <td>No</td>\n",
       "      <td>No</td>\n",
       "      <td>No</td>\n",
       "      <td>Japanese</td>\n",
       "      <td>NaN</td>\n",
       "      <td>NaN</td>\n",
       "    </tr>\n",
       "    <tr>\n",
       "      <th>2829</th>\n",
       "      <td>2830</td>\n",
       "      <td>Retired</td>\n",
       "      <td>Married</td>\n",
       "      <td>0.0</td>\n",
       "      <td>73.0</td>\n",
       "      <td>6.0</td>\n",
       "      <td>4.0</td>\n",
       "      <td>NaN</td>\n",
       "      <td>10.0</td>\n",
       "      <td>LT High school</td>\n",
       "      <td>...</td>\n",
       "      <td>65 or older</td>\n",
       "      <td>None</td>\n",
       "      <td>Yes</td>\n",
       "      <td>No</td>\n",
       "      <td>Yes</td>\n",
       "      <td>No</td>\n",
       "      <td>No</td>\n",
       "      <td>Korean</td>\n",
       "      <td>American</td>\n",
       "      <td>American</td>\n",
       "    </tr>\n",
       "    <tr>\n",
       "      <th>2830</th>\n",
       "      <td>2831</td>\n",
       "      <td>Working full time</td>\n",
       "      <td>Never married</td>\n",
       "      <td>0.0</td>\n",
       "      <td>47.0</td>\n",
       "      <td>12.0</td>\n",
       "      <td>12.0</td>\n",
       "      <td>12.0</td>\n",
       "      <td>NaN</td>\n",
       "      <td>High school</td>\n",
       "      <td>...</td>\n",
       "      <td>45 to 54</td>\n",
       "      <td>None</td>\n",
       "      <td>No</td>\n",
       "      <td>No</td>\n",
       "      <td>No</td>\n",
       "      <td>No</td>\n",
       "      <td>No</td>\n",
       "      <td>Japanese</td>\n",
       "      <td>NaN</td>\n",
       "      <td>NaN</td>\n",
       "    </tr>\n",
       "    <tr>\n",
       "      <th>2831</th>\n",
       "      <td>2832</td>\n",
       "      <td>Working part-time</td>\n",
       "      <td>Never married</td>\n",
       "      <td>0.0</td>\n",
       "      <td>20.0</td>\n",
       "      <td>10.0</td>\n",
       "      <td>NaN</td>\n",
       "      <td>NaN</td>\n",
       "      <td>NaN</td>\n",
       "      <td>LT High school</td>\n",
       "      <td>...</td>\n",
       "      <td>Less than 25</td>\n",
       "      <td>None</td>\n",
       "      <td>No</td>\n",
       "      <td>No</td>\n",
       "      <td>No</td>\n",
       "      <td>No</td>\n",
       "      <td>No</td>\n",
       "      <td>Swedish</td>\n",
       "      <td>American</td>\n",
       "      <td>German</td>\n",
       "    </tr>\n",
       "  </tbody>\n",
       "</table>\n",
       "<p>2832 rows × 46 columns</p>\n",
       "</div>"
      ],
      "text/plain": [
       "        id            wrkstat        marital  childs   age  educ  paeduc  \\\n",
       "0        1  Working full time       Divorced     2.0  60.0  12.0    12.0   \n",
       "1        2  Working part-time  Never married     0.0  27.0  17.0    20.0   \n",
       "2        3  Working full time        Married     2.0  36.0  12.0    12.0   \n",
       "3        4  Working full time  Never married     0.0  21.0  13.0     NaN   \n",
       "4        5  Working full time  Never married     0.0  35.0  16.0     NaN   \n",
       "...    ...                ...            ...     ...   ...   ...     ...   \n",
       "2827  2828  Working full time        Married     2.0  73.0  14.0     8.0   \n",
       "2828  2829  Working full time       Divorced     0.0  40.0  12.0    12.0   \n",
       "2829  2830            Retired        Married     0.0  73.0   6.0     4.0   \n",
       "2830  2831  Working full time  Never married     0.0  47.0  12.0    12.0   \n",
       "2831  2832  Working part-time  Never married     0.0  20.0  10.0     NaN   \n",
       "\n",
       "      maeduc  speduc          degree  ...        agecat childcat news1 news2  \\\n",
       "0       12.0     NaN     High school  ...      55 to 64      1-2    No    No   \n",
       "1        NaN     NaN  Junior college  ...      25 to 34     None    No    No   \n",
       "2       12.0    16.0     High school  ...      35 to 44      1-2    No    No   \n",
       "3       12.0     NaN     High school  ...  Less than 25     None    No    No   \n",
       "4       12.0     NaN        Bachelor  ...      35 to 44     None    No    No   \n",
       "...      ...     ...             ...  ...           ...      ...   ...   ...   \n",
       "2827    12.0    12.0  Junior college  ...   65 or older      1-2    No    No   \n",
       "2828    12.0     NaN     High school  ...      35 to 44     None    No    No   \n",
       "2829     NaN    10.0  LT High school  ...   65 or older     None   Yes    No   \n",
       "2830    12.0     NaN     High school  ...      45 to 54     None    No    No   \n",
       "2831     NaN     NaN  LT High school  ...  Less than 25     None    No    No   \n",
       "\n",
       "      news3 news4 news5      car1      car2      car3  \n",
       "0        No    No    No  American  Japanese  Japanese  \n",
       "1       Yes    No    No  American    German  Japanese  \n",
       "2        No   Yes   Yes  American  American       NaN  \n",
       "3        No   Yes   Yes  American     Other       NaN  \n",
       "4        No    No    No  American  American    Korean  \n",
       "...     ...   ...   ...       ...       ...       ...  \n",
       "2827     No    No    No  American  American    German  \n",
       "2828     No    No    No  Japanese       NaN       NaN  \n",
       "2829    Yes    No    No    Korean  American  American  \n",
       "2830     No    No    No  Japanese       NaN       NaN  \n",
       "2831     No    No    No   Swedish  American    German  \n",
       "\n",
       "[2832 rows x 46 columns]"
      ]
     },
     "execution_count": 146,
     "metadata": {},
     "output_type": "execute_result"
    }
   ],
   "source": [
    "sam_sur = pd.read_csv(\"E:Datasets/sample_survey.csv\")\n",
    "sam_sur"
   ]
  },
  {
   "cell_type": "markdown",
   "metadata": {},
   "source": [
    "### a.   Is there any relationship in between labour force status with marital status?\n"
   ]
  },
  {
   "cell_type": "markdown",
   "metadata": {},
   "source": [
    "### Chi-Square Test"
   ]
  },
  {
   "cell_type": "markdown",
   "metadata": {},
   "source": [
    "#### H0 : Observed == Expected (No relation between labour force status and marital status)\n",
    "\n",
    "#### Ha : Observed != Expected (There is a realtionship between labour force status and marital status)"
   ]
  },
  {
   "cell_type": "code",
   "execution_count": 151,
   "metadata": {},
   "outputs": [
    {
     "data": {
      "text/html": [
       "<div>\n",
       "<style scoped>\n",
       "    .dataframe tbody tr th:only-of-type {\n",
       "        vertical-align: middle;\n",
       "    }\n",
       "\n",
       "    .dataframe tbody tr th {\n",
       "        vertical-align: top;\n",
       "    }\n",
       "\n",
       "    .dataframe thead th {\n",
       "        text-align: right;\n",
       "    }\n",
       "</style>\n",
       "<table border=\"1\" class=\"dataframe\">\n",
       "  <thead>\n",
       "    <tr style=\"text-align: right;\">\n",
       "      <th>marital</th>\n",
       "      <th>Divorced</th>\n",
       "      <th>Married</th>\n",
       "      <th>Never married</th>\n",
       "      <th>Separated</th>\n",
       "      <th>Widowed</th>\n",
       "      <th>All</th>\n",
       "    </tr>\n",
       "    <tr>\n",
       "      <th>wrkstat</th>\n",
       "      <th></th>\n",
       "      <th></th>\n",
       "      <th></th>\n",
       "      <th></th>\n",
       "      <th></th>\n",
       "      <th></th>\n",
       "    </tr>\n",
       "  </thead>\n",
       "  <tbody>\n",
       "    <tr>\n",
       "      <th>Keeping house</th>\n",
       "      <td>25</td>\n",
       "      <td>200</td>\n",
       "      <td>35</td>\n",
       "      <td>13</td>\n",
       "      <td>55</td>\n",
       "      <td>328</td>\n",
       "    </tr>\n",
       "    <tr>\n",
       "      <th>Other</th>\n",
       "      <td>12</td>\n",
       "      <td>16</td>\n",
       "      <td>14</td>\n",
       "      <td>4</td>\n",
       "      <td>8</td>\n",
       "      <td>54</td>\n",
       "    </tr>\n",
       "    <tr>\n",
       "      <th>Retired</th>\n",
       "      <td>53</td>\n",
       "      <td>168</td>\n",
       "      <td>17</td>\n",
       "      <td>6</td>\n",
       "      <td>150</td>\n",
       "      <td>394</td>\n",
       "    </tr>\n",
       "    <tr>\n",
       "      <th>School</th>\n",
       "      <td>7</td>\n",
       "      <td>9</td>\n",
       "      <td>60</td>\n",
       "      <td>2</td>\n",
       "      <td>1</td>\n",
       "      <td>79</td>\n",
       "    </tr>\n",
       "    <tr>\n",
       "      <th>Temporarily not working</th>\n",
       "      <td>9</td>\n",
       "      <td>23</td>\n",
       "      <td>11</td>\n",
       "      <td>1</td>\n",
       "      <td>2</td>\n",
       "      <td>46</td>\n",
       "    </tr>\n",
       "    <tr>\n",
       "      <th>Unemployed, laid off</th>\n",
       "      <td>10</td>\n",
       "      <td>13</td>\n",
       "      <td>32</td>\n",
       "      <td>0</td>\n",
       "      <td>3</td>\n",
       "      <td>58</td>\n",
       "    </tr>\n",
       "    <tr>\n",
       "      <th>Working full time</th>\n",
       "      <td>295</td>\n",
       "      <td>778</td>\n",
       "      <td>392</td>\n",
       "      <td>58</td>\n",
       "      <td>44</td>\n",
       "      <td>1567</td>\n",
       "    </tr>\n",
       "    <tr>\n",
       "      <th>Working part-time</th>\n",
       "      <td>35</td>\n",
       "      <td>138</td>\n",
       "      <td>102</td>\n",
       "      <td>9</td>\n",
       "      <td>20</td>\n",
       "      <td>304</td>\n",
       "    </tr>\n",
       "    <tr>\n",
       "      <th>All</th>\n",
       "      <td>446</td>\n",
       "      <td>1345</td>\n",
       "      <td>663</td>\n",
       "      <td>93</td>\n",
       "      <td>283</td>\n",
       "      <td>2830</td>\n",
       "    </tr>\n",
       "  </tbody>\n",
       "</table>\n",
       "</div>"
      ],
      "text/plain": [
       "marital                  Divorced  Married  Never married  Separated  Widowed  \\\n",
       "wrkstat                                                                         \n",
       "Keeping house                  25      200             35         13       55   \n",
       "Other                          12       16             14          4        8   \n",
       "Retired                        53      168             17          6      150   \n",
       "School                          7        9             60          2        1   \n",
       "Temporarily not working         9       23             11          1        2   \n",
       "Unemployed, laid off           10       13             32          0        3   \n",
       "Working full time             295      778            392         58       44   \n",
       "Working part-time              35      138            102          9       20   \n",
       "All                           446     1345            663         93      283   \n",
       "\n",
       "marital                   All  \n",
       "wrkstat                        \n",
       "Keeping house             328  \n",
       "Other                      54  \n",
       "Retired                   394  \n",
       "School                     79  \n",
       "Temporarily not working    46  \n",
       "Unemployed, laid off       58  \n",
       "Working full time        1567  \n",
       "Working part-time         304  \n",
       "All                      2830  "
      ]
     },
     "execution_count": 151,
     "metadata": {},
     "output_type": "execute_result"
    }
   ],
   "source": [
    "#Creating Crosstab with workstatus and marital status of labours\n",
    "lab_mar_xtab = pd.crosstab(sam_sur.wrkstat, sam_sur.marital, margins = True)\n",
    "lab_mar_xtab"
   ]
  },
  {
   "cell_type": "code",
   "execution_count": 154,
   "metadata": {},
   "outputs": [
    {
     "data": {
      "text/plain": [
       "(729.2421426572284,\n",
       " 1.820339965538765e-127,\n",
       " 40,\n",
       " array([[5.16918728e+01, 1.55886926e+02, 7.68424028e+01, 1.07787986e+01,\n",
       "         3.28000000e+01, 3.28000000e+02],\n",
       "        [8.51024735e+00, 2.56643110e+01, 1.26508834e+01, 1.77455830e+00,\n",
       "         5.40000000e+00, 5.40000000e+01],\n",
       "        [6.20932862e+01, 1.87254417e+02, 9.23045936e+01, 1.29477032e+01,\n",
       "         3.94000000e+01, 3.94000000e+02],\n",
       "        [1.24501767e+01, 3.75459364e+01, 1.85077739e+01, 2.59611307e+00,\n",
       "         7.90000000e+00, 7.90000000e+01],\n",
       "        [7.24946996e+00, 2.18621908e+01, 1.07766784e+01, 1.51166078e+00,\n",
       "         4.60000000e+00, 4.60000000e+01],\n",
       "        [9.14063604e+00, 2.75653710e+01, 1.35879859e+01, 1.90600707e+00,\n",
       "         5.80000000e+00, 5.80000000e+01],\n",
       "        [2.46954770e+02, 7.44740283e+02, 3.67109894e+02, 5.14950530e+01,\n",
       "         1.56700000e+02, 1.56700000e+03],\n",
       "        [4.79095406e+01, 1.44480565e+02, 7.12197880e+01, 9.99010601e+00,\n",
       "         3.04000000e+01, 3.04000000e+02],\n",
       "        [4.46000000e+02, 1.34500000e+03, 6.63000000e+02, 9.30000000e+01,\n",
       "         2.83000000e+02, 2.83000000e+03]]))"
      ]
     },
     "execution_count": 154,
     "metadata": {},
     "output_type": "execute_result"
    }
   ],
   "source": [
    "#Performing Chi2-test and getting all the respected values\n",
    "x2test = stats.chi2_contingency(observed= lab_mar_xtab)\n",
    "\n",
    "x2test"
   ]
  },
  {
   "cell_type": "markdown",
   "metadata": {},
   "source": [
    "#### x2test [0] = Chi-Square score, x2test [1] = p-value, x2test [2] = degrees of freedom, x2test [3] = Expected value"
   ]
  },
  {
   "cell_type": "code",
   "execution_count": 153,
   "metadata": {},
   "outputs": [
    {
     "name": "stdout",
     "output_type": "stream",
     "text": [
      "The chi square stat is 729.2421426572284 and the p value is 1.820339965538765e-127\n"
     ]
    }
   ],
   "source": [
    "print(\"The chi square stat is {} and the p value is {}\".format(x2test[0],x2test[1]))"
   ]
  },
  {
   "cell_type": "code",
   "execution_count": 158,
   "metadata": {},
   "outputs": [
    {
     "data": {
      "text/plain": [
       "False"
      ]
     },
     "execution_count": 158,
     "metadata": {},
     "output_type": "execute_result"
    }
   ],
   "source": [
    "x2test[1] > 0.05"
   ]
  },
  {
   "cell_type": "markdown",
   "metadata": {},
   "source": [
    "### Conclusion"
   ]
  },
  {
   "cell_type": "markdown",
   "metadata": {},
   "source": [
    "- Since the significance value of the test is less than 0.05, we reject the null hypothesis [H0]. Therefore there is a relation between labour force status and marital status"
   ]
  },
  {
   "cell_type": "markdown",
   "metadata": {},
   "source": [
    "### b. Do you think educational qualification is somehow controlling the marital status?"
   ]
  },
  {
   "cell_type": "markdown",
   "metadata": {},
   "source": [
    "### Chi- Square Test"
   ]
  },
  {
   "cell_type": "markdown",
   "metadata": {},
   "source": [
    "#### H0 : Observed == Expected (No relation between educational qualification and marital status)\n",
    "\n",
    "#### Ha : Observed != Expected (There is a realtionship between educational qualification and marital status)"
   ]
  },
  {
   "cell_type": "code",
   "execution_count": 167,
   "metadata": {},
   "outputs": [
    {
     "data": {
      "text/html": [
       "<div>\n",
       "<style scoped>\n",
       "    .dataframe tbody tr th:only-of-type {\n",
       "        vertical-align: middle;\n",
       "    }\n",
       "\n",
       "    .dataframe tbody tr th {\n",
       "        vertical-align: top;\n",
       "    }\n",
       "\n",
       "    .dataframe thead th {\n",
       "        text-align: right;\n",
       "    }\n",
       "</style>\n",
       "<table border=\"1\" class=\"dataframe\">\n",
       "  <thead>\n",
       "    <tr style=\"text-align: right;\">\n",
       "      <th>marital</th>\n",
       "      <th>Divorced</th>\n",
       "      <th>Married</th>\n",
       "      <th>Never married</th>\n",
       "      <th>Separated</th>\n",
       "      <th>Widowed</th>\n",
       "      <th>All</th>\n",
       "    </tr>\n",
       "    <tr>\n",
       "      <th>degree</th>\n",
       "      <th></th>\n",
       "      <th></th>\n",
       "      <th></th>\n",
       "      <th></th>\n",
       "      <th></th>\n",
       "      <th></th>\n",
       "    </tr>\n",
       "  </thead>\n",
       "  <tbody>\n",
       "    <tr>\n",
       "      <th>Bachelor</th>\n",
       "      <td>58</td>\n",
       "      <td>251</td>\n",
       "      <td>129</td>\n",
       "      <td>12</td>\n",
       "      <td>28</td>\n",
       "      <td>478</td>\n",
       "    </tr>\n",
       "    <tr>\n",
       "      <th>Graduate</th>\n",
       "      <td>29</td>\n",
       "      <td>123</td>\n",
       "      <td>41</td>\n",
       "      <td>3</td>\n",
       "      <td>9</td>\n",
       "      <td>205</td>\n",
       "    </tr>\n",
       "    <tr>\n",
       "      <th>High school</th>\n",
       "      <td>241</td>\n",
       "      <td>686</td>\n",
       "      <td>367</td>\n",
       "      <td>58</td>\n",
       "      <td>148</td>\n",
       "      <td>1500</td>\n",
       "    </tr>\n",
       "    <tr>\n",
       "      <th>Junior college</th>\n",
       "      <td>45</td>\n",
       "      <td>108</td>\n",
       "      <td>46</td>\n",
       "      <td>3</td>\n",
       "      <td>6</td>\n",
       "      <td>208</td>\n",
       "    </tr>\n",
       "    <tr>\n",
       "      <th>LT High school</th>\n",
       "      <td>70</td>\n",
       "      <td>174</td>\n",
       "      <td>77</td>\n",
       "      <td>17</td>\n",
       "      <td>92</td>\n",
       "      <td>430</td>\n",
       "    </tr>\n",
       "    <tr>\n",
       "      <th>All</th>\n",
       "      <td>443</td>\n",
       "      <td>1342</td>\n",
       "      <td>660</td>\n",
       "      <td>93</td>\n",
       "      <td>283</td>\n",
       "      <td>2821</td>\n",
       "    </tr>\n",
       "  </tbody>\n",
       "</table>\n",
       "</div>"
      ],
      "text/plain": [
       "marital         Divorced  Married  Never married  Separated  Widowed   All\n",
       "degree                                                                    \n",
       "Bachelor              58      251            129         12       28   478\n",
       "Graduate              29      123             41          3        9   205\n",
       "High school          241      686            367         58      148  1500\n",
       "Junior college        45      108             46          3        6   208\n",
       "LT High school        70      174             77         17       92   430\n",
       "All                  443     1342            660         93      283  2821"
      ]
     },
     "execution_count": 167,
     "metadata": {},
     "output_type": "execute_result"
    }
   ],
   "source": [
    "#Creating Crosstab with degree and marital status of labours\n",
    "edu_mar_xtab = pd.crosstab(sam_sur.degree, sam_sur.marital, margins = True)\n",
    "edu_mar_xtab"
   ]
  },
  {
   "cell_type": "code",
   "execution_count": 168,
   "metadata": {},
   "outputs": [
    {
     "data": {
      "text/plain": [
       "(122.68449020508541,\n",
       " 7.424404099753273e-15,\n",
       " 25,\n",
       " array([[  75.06345268,  227.39312301,  111.83268345,   15.75824176,\n",
       "           47.95249911,  478.        ],\n",
       "        [  32.19248493,   97.52215526,   47.9617157 ,    6.75824176,\n",
       "           20.56540234,  205.        ],\n",
       "        [ 235.55476781,  713.57674583,  350.9393832 ,   49.45054945,\n",
       "          150.4785537 , 1500.        ],\n",
       "        [  32.66359447,   98.94930876,   48.66359447,    6.85714286,\n",
       "           20.86635945,  208.        ],\n",
       "        [  67.52570011,  204.55866714,  100.60262318,   14.17582418,\n",
       "           43.1371854 ,  430.        ],\n",
       "        [ 443.        , 1342.        ,  660.        ,   93.        ,\n",
       "          283.        , 2821.        ]]))"
      ]
     },
     "execution_count": 168,
     "metadata": {},
     "output_type": "execute_result"
    }
   ],
   "source": [
    "#Performing Chi2-test and getting all the respected values\n",
    "x2test_b = stats.chi2_contingency(observed= edu_mar_xtab)\n",
    "\n",
    "x2test_b"
   ]
  },
  {
   "cell_type": "markdown",
   "metadata": {},
   "source": [
    "#### x2test_b [0] = Chi-Square score, x2test_b [1] = p-value, x2test_b [2] = degrees of freedom, x2test_b [3] = Expected value"
   ]
  },
  {
   "cell_type": "code",
   "execution_count": 157,
   "metadata": {},
   "outputs": [
    {
     "name": "stdout",
     "output_type": "stream",
     "text": [
      "The chi square stat is 122.68449020508541 and the p value is 7.424404099753273e-15\n"
     ]
    }
   ],
   "source": [
    "print(\"The chi square stat is {} and the p value is {}\".format(x2test_b[0],x2test_b[1]))"
   ]
  },
  {
   "cell_type": "code",
   "execution_count": 160,
   "metadata": {},
   "outputs": [
    {
     "data": {
      "text/plain": [
       "False"
      ]
     },
     "execution_count": 160,
     "metadata": {},
     "output_type": "execute_result"
    }
   ],
   "source": [
    "x2test_b[1] > 0.05"
   ]
  },
  {
   "cell_type": "markdown",
   "metadata": {},
   "source": [
    "### Conclusion"
   ]
  },
  {
   "cell_type": "markdown",
   "metadata": {},
   "source": [
    "* Since the significance value of the test is less than 0.05, we reject the null hypothesis. Therefore there is educational qualification somehow controlling the marital status."
   ]
  },
  {
   "cell_type": "markdown",
   "metadata": {},
   "source": [
    "### c.   Is happiness is driven by earnings or marital status?"
   ]
  },
  {
   "cell_type": "markdown",
   "metadata": {},
   "source": [
    "### Chi-Square Test"
   ]
  },
  {
   "cell_type": "markdown",
   "metadata": {},
   "source": [
    "### Happiness w.r.t to earnings\n",
    "\n",
    "#### H0 : Observed == Expected (No relation between happiness and earnings)\n",
    "\n",
    "#### Ha : Observed != Expected (There is a realtionship between happiness and earnings)"
   ]
  },
  {
   "cell_type": "code",
   "execution_count": 170,
   "metadata": {},
   "outputs": [
    {
     "data": {
      "text/html": [
       "<div>\n",
       "<style scoped>\n",
       "    .dataframe tbody tr th:only-of-type {\n",
       "        vertical-align: middle;\n",
       "    }\n",
       "\n",
       "    .dataframe tbody tr th {\n",
       "        vertical-align: top;\n",
       "    }\n",
       "\n",
       "    .dataframe thead th {\n",
       "        text-align: right;\n",
       "    }\n",
       "</style>\n",
       "<table border=\"1\" class=\"dataframe\">\n",
       "  <thead>\n",
       "    <tr style=\"text-align: right;\">\n",
       "      <th>income</th>\n",
       "      <th>$1000 TO 2999</th>\n",
       "      <th>$10000 - 14999</th>\n",
       "      <th>$15000 - 19999</th>\n",
       "      <th>$20000 - 24999</th>\n",
       "      <th>$25000 or more</th>\n",
       "      <th>$3000 TO 3999</th>\n",
       "      <th>$4000 TO 4999</th>\n",
       "      <th>$5000 TO 5999</th>\n",
       "      <th>$6000 TO 6999</th>\n",
       "      <th>$7000 TO 7999</th>\n",
       "      <th>$8000 TO 9999</th>\n",
       "      <th>LT $1000</th>\n",
       "      <th>All</th>\n",
       "    </tr>\n",
       "    <tr>\n",
       "      <th>happy</th>\n",
       "      <th></th>\n",
       "      <th></th>\n",
       "      <th></th>\n",
       "      <th></th>\n",
       "      <th></th>\n",
       "      <th></th>\n",
       "      <th></th>\n",
       "      <th></th>\n",
       "      <th></th>\n",
       "      <th></th>\n",
       "      <th></th>\n",
       "      <th></th>\n",
       "      <th></th>\n",
       "    </tr>\n",
       "  </thead>\n",
       "  <tbody>\n",
       "    <tr>\n",
       "      <th>Not too happy</th>\n",
       "      <td>7</td>\n",
       "      <td>39</td>\n",
       "      <td>33</td>\n",
       "      <td>40</td>\n",
       "      <td>113</td>\n",
       "      <td>9</td>\n",
       "      <td>9</td>\n",
       "      <td>6</td>\n",
       "      <td>14</td>\n",
       "      <td>12</td>\n",
       "      <td>9</td>\n",
       "      <td>11</td>\n",
       "      <td>302</td>\n",
       "    </tr>\n",
       "    <tr>\n",
       "      <th>Pretty happy</th>\n",
       "      <td>20</td>\n",
       "      <td>107</td>\n",
       "      <td>119</td>\n",
       "      <td>155</td>\n",
       "      <td>888</td>\n",
       "      <td>11</td>\n",
       "      <td>13</td>\n",
       "      <td>18</td>\n",
       "      <td>13</td>\n",
       "      <td>21</td>\n",
       "      <td>30</td>\n",
       "      <td>13</td>\n",
       "      <td>1408</td>\n",
       "    </tr>\n",
       "    <tr>\n",
       "      <th>Very happy</th>\n",
       "      <td>5</td>\n",
       "      <td>44</td>\n",
       "      <td>26</td>\n",
       "      <td>50</td>\n",
       "      <td>571</td>\n",
       "      <td>4</td>\n",
       "      <td>10</td>\n",
       "      <td>11</td>\n",
       "      <td>6</td>\n",
       "      <td>14</td>\n",
       "      <td>19</td>\n",
       "      <td>11</td>\n",
       "      <td>771</td>\n",
       "    </tr>\n",
       "    <tr>\n",
       "      <th>All</th>\n",
       "      <td>32</td>\n",
       "      <td>190</td>\n",
       "      <td>178</td>\n",
       "      <td>245</td>\n",
       "      <td>1572</td>\n",
       "      <td>24</td>\n",
       "      <td>32</td>\n",
       "      <td>35</td>\n",
       "      <td>33</td>\n",
       "      <td>47</td>\n",
       "      <td>58</td>\n",
       "      <td>35</td>\n",
       "      <td>2481</td>\n",
       "    </tr>\n",
       "  </tbody>\n",
       "</table>\n",
       "</div>"
      ],
      "text/plain": [
       "income         $1000 TO 2999  $10000 - 14999  $15000 - 19999  $20000 - 24999  \\\n",
       "happy                                                                          \n",
       "Not too happy              7              39              33              40   \n",
       "Pretty happy              20             107             119             155   \n",
       "Very happy                 5              44              26              50   \n",
       "All                       32             190             178             245   \n",
       "\n",
       "income         $25000 or more  $3000 TO 3999  $4000 TO 4999  $5000 TO 5999  \\\n",
       "happy                                                                        \n",
       "Not too happy             113              9              9              6   \n",
       "Pretty happy              888             11             13             18   \n",
       "Very happy                571              4             10             11   \n",
       "All                      1572             24             32             35   \n",
       "\n",
       "income         $6000 TO 6999  $7000 TO 7999  $8000 TO 9999  LT $1000   All  \n",
       "happy                                                                       \n",
       "Not too happy             14             12              9        11   302  \n",
       "Pretty happy              13             21             30        13  1408  \n",
       "Very happy                 6             14             19        11   771  \n",
       "All                       33             47             58        35  2481  "
      ]
     },
     "execution_count": 170,
     "metadata": {},
     "output_type": "execute_result"
    }
   ],
   "source": [
    "#Creating Crosstab with happy and income of labours\n",
    "hap_ear_xtab = pd.crosstab(sam_sur.happy, sam_sur.income, margins = True)\n",
    "hap_ear_xtab"
   ]
  },
  {
   "cell_type": "code",
   "execution_count": 169,
   "metadata": {},
   "outputs": [
    {
     "data": {
      "text/plain": [
       "(178.95053061216427,\n",
       " 7.234749067043371e-21,\n",
       " 36,\n",
       " array([[   3.89520355,   23.12777106,   21.66706973,   29.82265216,\n",
       "          191.35187424,    2.92140266,    3.89520355,    4.26037888,\n",
       "            4.01692866,    5.72108021,    7.06005643,    4.26037888,\n",
       "          302.        ],\n",
       "        [  18.16041919,  107.82748892,  101.01733172,  139.04070939,\n",
       "          892.1305925 ,   13.62031439,   18.16041919,   19.86295848,\n",
       "           18.72793229,   26.67311568,   32.91575977,   19.86295848,\n",
       "         1408.        ],\n",
       "        [   9.94437727,   59.04474002,   55.31559855,   76.13663845,\n",
       "          488.51753325,    7.45828295,    9.94437727,   10.87666264,\n",
       "           10.25513906,   14.60580411,   18.0241838 ,   10.87666264,\n",
       "          771.        ],\n",
       "        [  32.        ,  190.        ,  178.        ,  245.        ,\n",
       "         1572.        ,   24.        ,   32.        ,   35.        ,\n",
       "           33.        ,   47.        ,   58.        ,   35.        ,\n",
       "         2481.        ]]))"
      ]
     },
     "execution_count": 169,
     "metadata": {},
     "output_type": "execute_result"
    }
   ],
   "source": [
    "#Performing Chi2-test and getting all the respected values\n",
    "x2test_ear = stats.chi2_contingency(observed= hap_ear_xtab)\n",
    "\n",
    "x2test_ear"
   ]
  },
  {
   "cell_type": "markdown",
   "metadata": {},
   "source": [
    "#### x2test_ear [0] = Chi-Square score, x2test_ear [1] = p-value, x2test_ear [2] = degrees of freedom, x2test_ear [3] = Expected value"
   ]
  },
  {
   "cell_type": "code",
   "execution_count": 164,
   "metadata": {},
   "outputs": [
    {
     "name": "stdout",
     "output_type": "stream",
     "text": [
      "The chi square stat of happiness w.r.t to earnings 178.95053061216427 and the p value is 7.234749067043371e-21\n"
     ]
    }
   ],
   "source": [
    "print(\"The chi square stat of happiness w.r.t to earnings {} and the p value is {}\".format(x2test_ear[0],x2test_ear[1]))"
   ]
  },
  {
   "cell_type": "markdown",
   "metadata": {},
   "source": [
    "### Happiness w.r.t to marital status"
   ]
  },
  {
   "cell_type": "markdown",
   "metadata": {},
   "source": [
    "#### H0 : Observed == Expected\n",
    "    (No relation between happiness and marital status)\n",
    "    \n",
    "#### Ha : Observed != Expected\n",
    "    (There is a realtionship between happiness and marital status)"
   ]
  },
  {
   "cell_type": "code",
   "execution_count": 171,
   "metadata": {},
   "outputs": [
    {
     "data": {
      "text/html": [
       "<div>\n",
       "<style scoped>\n",
       "    .dataframe tbody tr th:only-of-type {\n",
       "        vertical-align: middle;\n",
       "    }\n",
       "\n",
       "    .dataframe tbody tr th {\n",
       "        vertical-align: top;\n",
       "    }\n",
       "\n",
       "    .dataframe thead th {\n",
       "        text-align: right;\n",
       "    }\n",
       "</style>\n",
       "<table border=\"1\" class=\"dataframe\">\n",
       "  <thead>\n",
       "    <tr style=\"text-align: right;\">\n",
       "      <th>marital</th>\n",
       "      <th>Divorced</th>\n",
       "      <th>Married</th>\n",
       "      <th>Never married</th>\n",
       "      <th>Separated</th>\n",
       "      <th>Widowed</th>\n",
       "      <th>All</th>\n",
       "    </tr>\n",
       "    <tr>\n",
       "      <th>happy</th>\n",
       "      <th></th>\n",
       "      <th></th>\n",
       "      <th></th>\n",
       "      <th></th>\n",
       "      <th></th>\n",
       "      <th></th>\n",
       "    </tr>\n",
       "  </thead>\n",
       "  <tbody>\n",
       "    <tr>\n",
       "      <th>Not too happy</th>\n",
       "      <td>72</td>\n",
       "      <td>71</td>\n",
       "      <td>108</td>\n",
       "      <td>30</td>\n",
       "      <td>59</td>\n",
       "      <td>340</td>\n",
       "    </tr>\n",
       "    <tr>\n",
       "      <th>Pretty happy</th>\n",
       "      <td>278</td>\n",
       "      <td>684</td>\n",
       "      <td>426</td>\n",
       "      <td>49</td>\n",
       "      <td>137</td>\n",
       "      <td>1574</td>\n",
       "    </tr>\n",
       "    <tr>\n",
       "      <th>Very happy</th>\n",
       "      <td>93</td>\n",
       "      <td>582</td>\n",
       "      <td>120</td>\n",
       "      <td>13</td>\n",
       "      <td>83</td>\n",
       "      <td>891</td>\n",
       "    </tr>\n",
       "    <tr>\n",
       "      <th>All</th>\n",
       "      <td>443</td>\n",
       "      <td>1337</td>\n",
       "      <td>654</td>\n",
       "      <td>92</td>\n",
       "      <td>279</td>\n",
       "      <td>2805</td>\n",
       "    </tr>\n",
       "  </tbody>\n",
       "</table>\n",
       "</div>"
      ],
      "text/plain": [
       "marital        Divorced  Married  Never married  Separated  Widowed   All\n",
       "happy                                                                    \n",
       "Not too happy        72       71            108         30       59   340\n",
       "Pretty happy        278      684            426         49      137  1574\n",
       "Very happy           93      582            120         13       83   891\n",
       "All                 443     1337            654         92      279  2805"
      ]
     },
     "execution_count": 171,
     "metadata": {},
     "output_type": "execute_result"
    }
   ],
   "source": [
    "#Creating Crosstab with happy and marital of labours\n",
    "hap_mar_xtab = pd.crosstab(sam_sur.happy, sam_sur.marital, margins = True)\n",
    "hap_mar_xtab"
   ]
  },
  {
   "cell_type": "code",
   "execution_count": 172,
   "metadata": {},
   "outputs": [
    {
     "data": {
      "text/plain": [
       "(260.68943894182826,\n",
       " 7.762777322980048e-47,\n",
       " 15,\n",
       " array([[  53.6969697 ,  162.06060606,   79.27272727,   11.15151515,\n",
       "           33.81818182,  340.        ],\n",
       "        [ 248.58538324,  750.24527629,  366.98609626,   51.62495544,\n",
       "          156.55828877, 1574.        ],\n",
       "        [ 140.71764706,  424.69411765,  207.74117647,   29.22352941,\n",
       "           88.62352941,  891.        ],\n",
       "        [ 443.        , 1337.        ,  654.        ,   92.        ,\n",
       "          279.        , 2805.        ]]))"
      ]
     },
     "execution_count": 172,
     "metadata": {},
     "output_type": "execute_result"
    }
   ],
   "source": [
    "#Performing Chi2-test and getting all the respected values\n",
    "x2test_mar = stats.chi2_contingency(observed= hap_mar_xtab)\n",
    "\n",
    "x2test_mar"
   ]
  },
  {
   "cell_type": "markdown",
   "metadata": {},
   "source": [
    "#### x2test_mar [0] = Chi-Square score, x2test_mar [1] = p-value, x2test_mar [2] = degrees of freedom, x2test_mar [3] = Expected value"
   ]
  },
  {
   "cell_type": "code",
   "execution_count": 173,
   "metadata": {},
   "outputs": [
    {
     "name": "stdout",
     "output_type": "stream",
     "text": [
      "The chi square stat of happiness w.r.t to marital status 260.68943894182826 and the p value is 7.762777322980048e-47\n"
     ]
    }
   ],
   "source": [
    "print(\"The chi square stat of happiness w.r.t to marital status {} and the p value is {}\".format(x2test_mar[0],x2test_mar[1]))"
   ]
  },
  {
   "cell_type": "markdown",
   "metadata": {},
   "source": [
    "### Final conclusion"
   ]
  },
  {
   "cell_type": "markdown",
   "metadata": {},
   "source": [
    "- As it can be clearly seen that chi_square score for (happiness w.r.t to marital status) i.e. 260.68 is more than chi_square score for (happiness w.r.t to marital earnings) i.e 178.95, therefore we can conclude that happiness is driven by marital status\n"
   ]
  }
 ],
 "metadata": {
  "kernelspec": {
   "display_name": "Python 3",
   "language": "python",
   "name": "python3"
  },
  "language_info": {
   "codemirror_mode": {
    "name": "ipython",
    "version": 3
   },
   "file_extension": ".py",
   "mimetype": "text/x-python",
   "name": "python",
   "nbconvert_exporter": "python",
   "pygments_lexer": "ipython3",
   "version": "3.7.6"
  }
 },
 "nbformat": 4,
 "nbformat_minor": 4
}
